{
 "cells": [
  {
   "cell_type": "markdown",
   "metadata": {},
   "source": [
    "# Content\n",
    "\n",
    "**[Load and Import Data](#heading--1)**\n",
    "\n",
    "  * [1. Programmatically download and load data.](#heading--1-1)\n",
    "  \n",
    "  * [2. Describe the structure of the data.](#heading--1-2)\n",
    " \n",
    "\n",
    "        \n",
    "**[Make Plots](#heading--2)**\n",
    "\n",
    "  * [1. Plot a histogram of the transactionAmount column.](#heading--2-1)\n",
    "  \n",
    "  * [2. Report any structure you find and any hypotheses you have about that structure.](#heading--2-2)\n",
    "  \n",
    "  \n",
    "**[Data Wrangling - Duplicate Transactions](#heading--3)**\n",
    "\n",
    "  * [1. Programmatically identify reversed and multi-swipe transactions.](#heading--3-1)\n",
    "  \n",
    "      * [1.1. Reversal transaction.](#heading--3-1-1)\n",
    "      * [1.2. Multi-swipe transaction.](#heading--3-1-2)     \n",
    "      \n",
    "  * [2. Total number of transactions and total dollar amount estimated for the reversed transactions and the multi-swipe transactions.](#heading--3-2)\n",
    "  \n",
    "  * [3. Anything interesting about either kind of transaction.](#heading--3-3)\n",
    "      * [3.1. Mechant category of different kinds of duplicates.](#heading--3-3-1)\n",
    "      * [3.2. Time span between duplicates.](#heading--3-3-2)    \n",
    "      \n",
    "\n",
    "**[Model Building.](#heading--4)**\n",
    "\n",
    "  * [1. Build a predictive model to determine whether a given transaction will be fraudulent or not.](#heading--4-1)\n",
    "      * [1.1. Missing value.](#heading--4-1-1)\n",
    "      * [1.2. Feature engineering.](#heading--4-1-2)\n",
    "      * [1.3. Feature selection.](#heading--4-1-3)\n",
    "      * [1.4. Preprocess.](#heading--4-1-4)\n",
    "      * [1.5. SMOTE.](#heading--4-1-5)\n",
    "      * [1.6. Model building.](#heading--4-1-6)      \n",
    "      \n",
    "  * [2. Provide an estimate of performance using an appropriate sample.](#heading--4-2)\n",
    "  \n",
    "  * [3. Explain the methodolog.](#heading--4-3) \n",
    "      * [3.1. Methodology.](#heading--4-3-1)\n",
    "      * [1.2. Useful features.](#heading--4-3-2)"
   ]
  },
  {
   "cell_type": "code",
   "execution_count": 2,
   "metadata": {},
   "outputs": [],
   "source": [
    "import warnings\n",
    "warnings.filterwarnings('ignore')\n",
    "\n",
    "import json\n",
    "import zipfile\n",
    "import urllib.request\n",
    "\n",
    "import numpy as np\n",
    "import pandas as pd\n",
    "import matplotlib.pyplot as plt\n",
    "import seaborn as sns\n",
    "import itertools\n",
    "%matplotlib inline\n",
    "\n",
    "from sklearn.model_selection import train_test_split\n",
    "from collections import Counter\n",
    "from imblearn import under_sampling, over_sampling\n",
    "from imblearn.over_sampling import SMOTE\n",
    "from sklearn.model_selection import KFold\n",
    "from sklearn.model_selection import GridSearchCV\n",
    "from sklearn.model_selection import RandomizedSearchCV\n",
    "from sklearn.model_selection import cross_val_score\n",
    "from imblearn.metrics import classification_report_imbalanced\n",
    "\n",
    "from sklearn.tree import DecisionTreeClassifier\n",
    "from sklearn.ensemble import RandomForestClassifier\n",
    "#import lightgbm as lgb\n",
    "\n",
    "from sklearn.metrics import (precision_score, recall_score, roc_auc_score, accuracy_score,\n",
    "                             confusion_matrix, precision_recall_curve, roc_curve, brier_score_loss)\n",
    "\n",
    "from sklearn.externals import joblib"
   ]
  },
  {
   "cell_type": "markdown",
   "metadata": {},
   "source": [
    "# Load and Import Data <a name=\"heading--1\"/>"
   ]
  },
  {
   "cell_type": "markdown",
   "metadata": {},
   "source": [
    "## 1. Programmatically download and load file. <a name=\"heading--1-1\"/>"
   ]
  },
  {
   "cell_type": "code",
   "execution_count": 7,
   "metadata": {},
   "outputs": [
    {
     "name": "stdout",
     "output_type": "stream",
     "text": [
      "download file:  transactions.zip\n"
     ]
    }
   ],
   "source": [
    "# Programmatically download the dataset\n",
    "\n",
    "url = 'https://github.com/Alisaahy/Fraud_detection_ML_project/blob/master/src/transactions.zip?raw=true'\n",
    "filename, headers = urllib.request.urlretrieve(url, filename='transactions.zip')\n",
    "\n",
    "print ('download file: ', filename)"
   ]
  },
  {
   "cell_type": "code",
   "execution_count": 5,
   "metadata": {},
   "outputs": [
    {
     "name": "stdout",
     "output_type": "stream",
     "text": [
      "download file:  transactions.zip\n"
     ]
    }
   ],
   "source": [
    "# Programmatically download the dataset\n",
    "\n",
    "url = 'https://github.com/CapitalOneRecruiting/DS/blob/master/transactions.zip?raw=true'\n",
    "filename, headers = urllib.request.urlretrieve(url, filename='transactions.zip')\n",
    "\n",
    "print ('download file: ', filename)"
   ]
  },
  {
   "cell_type": "code",
   "execution_count": 8,
   "metadata": {},
   "outputs": [
    {
     "ename": "BadZipFile",
     "evalue": "File is not a zip file",
     "output_type": "error",
     "traceback": [
      "\u001b[0;31m---------------------------------------------------------------------------\u001b[0m",
      "\u001b[0;31mBadZipFile\u001b[0m                                Traceback (most recent call last)",
      "\u001b[0;32m<ipython-input-8-a64b93ea903d>\u001b[0m in \u001b[0;36m<module>\u001b[0;34m\u001b[0m\n\u001b[1;32m      1\u001b[0m \u001b[0;31m# Load the zipfile\u001b[0m\u001b[0;34m\u001b[0m\u001b[0;34m\u001b[0m\u001b[0;34m\u001b[0m\u001b[0m\n\u001b[1;32m      2\u001b[0m \u001b[0;34m\u001b[0m\u001b[0m\n\u001b[0;32m----> 3\u001b[0;31m \u001b[0mzf\u001b[0m \u001b[0;34m=\u001b[0m \u001b[0mzipfile\u001b[0m\u001b[0;34m.\u001b[0m\u001b[0mZipFile\u001b[0m\u001b[0;34m(\u001b[0m\u001b[0;34m'transactions.zip'\u001b[0m\u001b[0;34m,\u001b[0m \u001b[0;34m'r'\u001b[0m\u001b[0;34m)\u001b[0m\u001b[0;34m\u001b[0m\u001b[0;34m\u001b[0m\u001b[0m\n\u001b[0m\u001b[1;32m      4\u001b[0m \u001b[0mzipinfos\u001b[0m \u001b[0;34m=\u001b[0m \u001b[0mzf\u001b[0m\u001b[0;34m.\u001b[0m\u001b[0minfolist\u001b[0m\u001b[0;34m(\u001b[0m\u001b[0;34m)\u001b[0m\u001b[0;34m\u001b[0m\u001b[0;34m\u001b[0m\u001b[0m\n\u001b[1;32m      5\u001b[0m \u001b[0mdata\u001b[0m \u001b[0;34m=\u001b[0m \u001b[0mzf\u001b[0m\u001b[0;34m.\u001b[0m\u001b[0mopen\u001b[0m\u001b[0;34m(\u001b[0m\u001b[0mzipinfos\u001b[0m\u001b[0;34m[\u001b[0m\u001b[0;36m0\u001b[0m\u001b[0;34m]\u001b[0m\u001b[0;34m.\u001b[0m\u001b[0mfilename\u001b[0m\u001b[0;34m)\u001b[0m\u001b[0;34m.\u001b[0m\u001b[0mread\u001b[0m\u001b[0;34m(\u001b[0m\u001b[0;34m)\u001b[0m\u001b[0;34m.\u001b[0m\u001b[0msplitlines\u001b[0m\u001b[0;34m(\u001b[0m\u001b[0;34m)\u001b[0m\u001b[0;34m\u001b[0m\u001b[0;34m\u001b[0m\u001b[0m\n",
      "\u001b[0;32m~/anaconda3/lib/python3.7/zipfile.py\u001b[0m in \u001b[0;36m__init__\u001b[0;34m(self, file, mode, compression, allowZip64, compresslevel)\u001b[0m\n\u001b[1;32m   1223\u001b[0m         \u001b[0;32mtry\u001b[0m\u001b[0;34m:\u001b[0m\u001b[0;34m\u001b[0m\u001b[0;34m\u001b[0m\u001b[0m\n\u001b[1;32m   1224\u001b[0m             \u001b[0;32mif\u001b[0m \u001b[0mmode\u001b[0m \u001b[0;34m==\u001b[0m \u001b[0;34m'r'\u001b[0m\u001b[0;34m:\u001b[0m\u001b[0;34m\u001b[0m\u001b[0;34m\u001b[0m\u001b[0m\n\u001b[0;32m-> 1225\u001b[0;31m                 \u001b[0mself\u001b[0m\u001b[0;34m.\u001b[0m\u001b[0m_RealGetContents\u001b[0m\u001b[0;34m(\u001b[0m\u001b[0;34m)\u001b[0m\u001b[0;34m\u001b[0m\u001b[0;34m\u001b[0m\u001b[0m\n\u001b[0m\u001b[1;32m   1226\u001b[0m             \u001b[0;32melif\u001b[0m \u001b[0mmode\u001b[0m \u001b[0;32min\u001b[0m \u001b[0;34m(\u001b[0m\u001b[0;34m'w'\u001b[0m\u001b[0;34m,\u001b[0m \u001b[0;34m'x'\u001b[0m\u001b[0;34m)\u001b[0m\u001b[0;34m:\u001b[0m\u001b[0;34m\u001b[0m\u001b[0;34m\u001b[0m\u001b[0m\n\u001b[1;32m   1227\u001b[0m                 \u001b[0;31m# set the modified flag so central directory gets written\u001b[0m\u001b[0;34m\u001b[0m\u001b[0;34m\u001b[0m\u001b[0;34m\u001b[0m\u001b[0m\n",
      "\u001b[0;32m~/anaconda3/lib/python3.7/zipfile.py\u001b[0m in \u001b[0;36m_RealGetContents\u001b[0;34m(self)\u001b[0m\n\u001b[1;32m   1290\u001b[0m             \u001b[0;32mraise\u001b[0m \u001b[0mBadZipFile\u001b[0m\u001b[0;34m(\u001b[0m\u001b[0;34m\"File is not a zip file\"\u001b[0m\u001b[0;34m)\u001b[0m\u001b[0;34m\u001b[0m\u001b[0;34m\u001b[0m\u001b[0m\n\u001b[1;32m   1291\u001b[0m         \u001b[0;32mif\u001b[0m \u001b[0;32mnot\u001b[0m \u001b[0mendrec\u001b[0m\u001b[0;34m:\u001b[0m\u001b[0;34m\u001b[0m\u001b[0;34m\u001b[0m\u001b[0m\n\u001b[0;32m-> 1292\u001b[0;31m             \u001b[0;32mraise\u001b[0m \u001b[0mBadZipFile\u001b[0m\u001b[0;34m(\u001b[0m\u001b[0;34m\"File is not a zip file\"\u001b[0m\u001b[0;34m)\u001b[0m\u001b[0;34m\u001b[0m\u001b[0;34m\u001b[0m\u001b[0m\n\u001b[0m\u001b[1;32m   1293\u001b[0m         \u001b[0;32mif\u001b[0m \u001b[0mself\u001b[0m\u001b[0;34m.\u001b[0m\u001b[0mdebug\u001b[0m \u001b[0;34m>\u001b[0m \u001b[0;36m1\u001b[0m\u001b[0;34m:\u001b[0m\u001b[0;34m\u001b[0m\u001b[0;34m\u001b[0m\u001b[0m\n\u001b[1;32m   1294\u001b[0m             \u001b[0mprint\u001b[0m\u001b[0;34m(\u001b[0m\u001b[0mendrec\u001b[0m\u001b[0;34m)\u001b[0m\u001b[0;34m\u001b[0m\u001b[0;34m\u001b[0m\u001b[0m\n",
      "\u001b[0;31mBadZipFile\u001b[0m: File is not a zip file"
     ]
    }
   ],
   "source": [
    "# Load the zipfile\n",
    "\n",
    "zf = zipfile.ZipFile('transactions.zip', 'r')\n",
    "zipinfos = zf.infolist()\n",
    "data = zf.open(zipinfos[0].filename).read().splitlines()\n",
    "\n",
    "\n",
    "# Convert the json data file into a pandas dataframe\n",
    "\n",
    "data = [json.loads(rows) for rows in data]\n",
    "data = pd.DataFrame(data)"
   ]
  },
  {
   "cell_type": "code",
   "execution_count": 3,
   "metadata": {},
   "outputs": [],
   "source": [
    "# Load the zipfile\n",
    "\n",
    "zf = zipfile.ZipFile('transactions.zip', 'r')\n",
    "zipinfos = zf.infolist()\n",
    "data = zf.open(zipinfos[0].filename).read().splitlines()\n",
    "\n",
    "\n",
    "# Convert the json data file into a pandas dataframe\n",
    "\n",
    "data = [json.loads(rows) for rows in data]\n",
    "data = pd.DataFrame(data)"
   ]
  },
  {
   "cell_type": "code",
   "execution_count": 4,
   "metadata": {},
   "outputs": [
    {
     "data": {
      "text/html": [
       "<div>\n",
       "<style scoped>\n",
       "    .dataframe tbody tr th:only-of-type {\n",
       "        vertical-align: middle;\n",
       "    }\n",
       "\n",
       "    .dataframe tbody tr th {\n",
       "        vertical-align: top;\n",
       "    }\n",
       "\n",
       "    .dataframe thead th {\n",
       "        text-align: right;\n",
       "    }\n",
       "</style>\n",
       "<table border=\"1\" class=\"dataframe\">\n",
       "  <thead>\n",
       "    <tr style=\"text-align: right;\">\n",
       "      <th></th>\n",
       "      <th>accountNumber</th>\n",
       "      <th>customerId</th>\n",
       "      <th>creditLimit</th>\n",
       "      <th>availableMoney</th>\n",
       "      <th>transactionDateTime</th>\n",
       "      <th>transactionAmount</th>\n",
       "      <th>merchantName</th>\n",
       "      <th>acqCountry</th>\n",
       "      <th>merchantCountryCode</th>\n",
       "      <th>posEntryMode</th>\n",
       "      <th>...</th>\n",
       "      <th>echoBuffer</th>\n",
       "      <th>currentBalance</th>\n",
       "      <th>merchantCity</th>\n",
       "      <th>merchantState</th>\n",
       "      <th>merchantZip</th>\n",
       "      <th>cardPresent</th>\n",
       "      <th>posOnPremises</th>\n",
       "      <th>recurringAuthInd</th>\n",
       "      <th>expirationDateKeyInMatch</th>\n",
       "      <th>isFraud</th>\n",
       "    </tr>\n",
       "  </thead>\n",
       "  <tbody>\n",
       "    <tr>\n",
       "      <th>0</th>\n",
       "      <td>737265056</td>\n",
       "      <td>737265056</td>\n",
       "      <td>5000.0</td>\n",
       "      <td>5000.0</td>\n",
       "      <td>2016-08-13T14:27:32</td>\n",
       "      <td>98.55</td>\n",
       "      <td>Uber</td>\n",
       "      <td>US</td>\n",
       "      <td>US</td>\n",
       "      <td>02</td>\n",
       "      <td>...</td>\n",
       "      <td></td>\n",
       "      <td>0.0</td>\n",
       "      <td></td>\n",
       "      <td></td>\n",
       "      <td></td>\n",
       "      <td>False</td>\n",
       "      <td></td>\n",
       "      <td></td>\n",
       "      <td>False</td>\n",
       "      <td>False</td>\n",
       "    </tr>\n",
       "    <tr>\n",
       "      <th>1</th>\n",
       "      <td>737265056</td>\n",
       "      <td>737265056</td>\n",
       "      <td>5000.0</td>\n",
       "      <td>5000.0</td>\n",
       "      <td>2016-10-11T05:05:54</td>\n",
       "      <td>74.51</td>\n",
       "      <td>AMC #191138</td>\n",
       "      <td>US</td>\n",
       "      <td>US</td>\n",
       "      <td>09</td>\n",
       "      <td>...</td>\n",
       "      <td></td>\n",
       "      <td>0.0</td>\n",
       "      <td></td>\n",
       "      <td></td>\n",
       "      <td></td>\n",
       "      <td>True</td>\n",
       "      <td></td>\n",
       "      <td></td>\n",
       "      <td>False</td>\n",
       "      <td>False</td>\n",
       "    </tr>\n",
       "    <tr>\n",
       "      <th>2</th>\n",
       "      <td>737265056</td>\n",
       "      <td>737265056</td>\n",
       "      <td>5000.0</td>\n",
       "      <td>5000.0</td>\n",
       "      <td>2016-11-08T09:18:39</td>\n",
       "      <td>7.47</td>\n",
       "      <td>Play Store</td>\n",
       "      <td>US</td>\n",
       "      <td>US</td>\n",
       "      <td>09</td>\n",
       "      <td>...</td>\n",
       "      <td></td>\n",
       "      <td>0.0</td>\n",
       "      <td></td>\n",
       "      <td></td>\n",
       "      <td></td>\n",
       "      <td>False</td>\n",
       "      <td></td>\n",
       "      <td></td>\n",
       "      <td>False</td>\n",
       "      <td>False</td>\n",
       "    </tr>\n",
       "    <tr>\n",
       "      <th>3</th>\n",
       "      <td>737265056</td>\n",
       "      <td>737265056</td>\n",
       "      <td>5000.0</td>\n",
       "      <td>5000.0</td>\n",
       "      <td>2016-12-10T02:14:50</td>\n",
       "      <td>7.47</td>\n",
       "      <td>Play Store</td>\n",
       "      <td>US</td>\n",
       "      <td>US</td>\n",
       "      <td>09</td>\n",
       "      <td>...</td>\n",
       "      <td></td>\n",
       "      <td>0.0</td>\n",
       "      <td></td>\n",
       "      <td></td>\n",
       "      <td></td>\n",
       "      <td>False</td>\n",
       "      <td></td>\n",
       "      <td></td>\n",
       "      <td>False</td>\n",
       "      <td>False</td>\n",
       "    </tr>\n",
       "    <tr>\n",
       "      <th>4</th>\n",
       "      <td>830329091</td>\n",
       "      <td>830329091</td>\n",
       "      <td>5000.0</td>\n",
       "      <td>5000.0</td>\n",
       "      <td>2016-03-24T21:04:46</td>\n",
       "      <td>71.18</td>\n",
       "      <td>Tim Hortons #947751</td>\n",
       "      <td>US</td>\n",
       "      <td>US</td>\n",
       "      <td>02</td>\n",
       "      <td>...</td>\n",
       "      <td></td>\n",
       "      <td>0.0</td>\n",
       "      <td></td>\n",
       "      <td></td>\n",
       "      <td></td>\n",
       "      <td>True</td>\n",
       "      <td></td>\n",
       "      <td></td>\n",
       "      <td>False</td>\n",
       "      <td>False</td>\n",
       "    </tr>\n",
       "  </tbody>\n",
       "</table>\n",
       "<p>5 rows × 29 columns</p>\n",
       "</div>"
      ],
      "text/plain": [
       "  accountNumber customerId  creditLimit  availableMoney  transactionDateTime  \\\n",
       "0     737265056  737265056       5000.0          5000.0  2016-08-13T14:27:32   \n",
       "1     737265056  737265056       5000.0          5000.0  2016-10-11T05:05:54   \n",
       "2     737265056  737265056       5000.0          5000.0  2016-11-08T09:18:39   \n",
       "3     737265056  737265056       5000.0          5000.0  2016-12-10T02:14:50   \n",
       "4     830329091  830329091       5000.0          5000.0  2016-03-24T21:04:46   \n",
       "\n",
       "   transactionAmount         merchantName acqCountry merchantCountryCode  \\\n",
       "0              98.55                 Uber         US                  US   \n",
       "1              74.51          AMC #191138         US                  US   \n",
       "2               7.47           Play Store         US                  US   \n",
       "3               7.47           Play Store         US                  US   \n",
       "4              71.18  Tim Hortons #947751         US                  US   \n",
       "\n",
       "  posEntryMode  ... echoBuffer currentBalance merchantCity merchantState  \\\n",
       "0           02  ...                       0.0                              \n",
       "1           09  ...                       0.0                              \n",
       "2           09  ...                       0.0                              \n",
       "3           09  ...                       0.0                              \n",
       "4           02  ...                       0.0                              \n",
       "\n",
       "  merchantZip cardPresent posOnPremises recurringAuthInd  \\\n",
       "0                   False                                  \n",
       "1                    True                                  \n",
       "2                   False                                  \n",
       "3                   False                                  \n",
       "4                    True                                  \n",
       "\n",
       "  expirationDateKeyInMatch isFraud  \n",
       "0                    False   False  \n",
       "1                    False   False  \n",
       "2                    False   False  \n",
       "3                    False   False  \n",
       "4                    False   False  \n",
       "\n",
       "[5 rows x 29 columns]"
      ]
     },
     "execution_count": 4,
     "metadata": {},
     "output_type": "execute_result"
    }
   ],
   "source": [
    "# Preview the dataset\n",
    "\n",
    "data.head()"
   ]
  },
  {
   "cell_type": "markdown",
   "metadata": {},
   "source": [
    "## 2. Describe the structure of the data. Number of records and fields in each record?  <a name=\"heading--1-2\"/>"
   ]
  },
  {
   "cell_type": "code",
   "execution_count": 5,
   "metadata": {},
   "outputs": [
    {
     "data": {
      "text/html": [
       "<div>\n",
       "<style scoped>\n",
       "    .dataframe tbody tr th:only-of-type {\n",
       "        vertical-align: middle;\n",
       "    }\n",
       "\n",
       "    .dataframe tbody tr th {\n",
       "        vertical-align: top;\n",
       "    }\n",
       "\n",
       "    .dataframe thead th {\n",
       "        text-align: right;\n",
       "    }\n",
       "</style>\n",
       "<table border=\"1\" class=\"dataframe\">\n",
       "  <thead>\n",
       "    <tr style=\"text-align: right;\">\n",
       "      <th></th>\n",
       "      <th>accountNumber</th>\n",
       "      <th>customerId</th>\n",
       "      <th>creditLimit</th>\n",
       "      <th>availableMoney</th>\n",
       "      <th>transactionDateTime</th>\n",
       "      <th>transactionAmount</th>\n",
       "      <th>merchantName</th>\n",
       "      <th>acqCountry</th>\n",
       "      <th>merchantCountryCode</th>\n",
       "      <th>posEntryMode</th>\n",
       "      <th>...</th>\n",
       "      <th>echoBuffer</th>\n",
       "      <th>currentBalance</th>\n",
       "      <th>merchantCity</th>\n",
       "      <th>merchantState</th>\n",
       "      <th>merchantZip</th>\n",
       "      <th>cardPresent</th>\n",
       "      <th>posOnPremises</th>\n",
       "      <th>recurringAuthInd</th>\n",
       "      <th>expirationDateKeyInMatch</th>\n",
       "      <th>isFraud</th>\n",
       "    </tr>\n",
       "  </thead>\n",
       "  <tbody>\n",
       "    <tr>\n",
       "      <th>0</th>\n",
       "      <td>737265056</td>\n",
       "      <td>737265056</td>\n",
       "      <td>5000.0</td>\n",
       "      <td>5000.0</td>\n",
       "      <td>2016-08-13T14:27:32</td>\n",
       "      <td>98.55</td>\n",
       "      <td>Uber</td>\n",
       "      <td>US</td>\n",
       "      <td>US</td>\n",
       "      <td>02</td>\n",
       "      <td>...</td>\n",
       "      <td>NaN</td>\n",
       "      <td>0.0</td>\n",
       "      <td>NaN</td>\n",
       "      <td>NaN</td>\n",
       "      <td>NaN</td>\n",
       "      <td>False</td>\n",
       "      <td>NaN</td>\n",
       "      <td>NaN</td>\n",
       "      <td>False</td>\n",
       "      <td>False</td>\n",
       "    </tr>\n",
       "    <tr>\n",
       "      <th>1</th>\n",
       "      <td>737265056</td>\n",
       "      <td>737265056</td>\n",
       "      <td>5000.0</td>\n",
       "      <td>5000.0</td>\n",
       "      <td>2016-10-11T05:05:54</td>\n",
       "      <td>74.51</td>\n",
       "      <td>AMC #191138</td>\n",
       "      <td>US</td>\n",
       "      <td>US</td>\n",
       "      <td>09</td>\n",
       "      <td>...</td>\n",
       "      <td>NaN</td>\n",
       "      <td>0.0</td>\n",
       "      <td>NaN</td>\n",
       "      <td>NaN</td>\n",
       "      <td>NaN</td>\n",
       "      <td>True</td>\n",
       "      <td>NaN</td>\n",
       "      <td>NaN</td>\n",
       "      <td>False</td>\n",
       "      <td>False</td>\n",
       "    </tr>\n",
       "    <tr>\n",
       "      <th>2</th>\n",
       "      <td>737265056</td>\n",
       "      <td>737265056</td>\n",
       "      <td>5000.0</td>\n",
       "      <td>5000.0</td>\n",
       "      <td>2016-11-08T09:18:39</td>\n",
       "      <td>7.47</td>\n",
       "      <td>Play Store</td>\n",
       "      <td>US</td>\n",
       "      <td>US</td>\n",
       "      <td>09</td>\n",
       "      <td>...</td>\n",
       "      <td>NaN</td>\n",
       "      <td>0.0</td>\n",
       "      <td>NaN</td>\n",
       "      <td>NaN</td>\n",
       "      <td>NaN</td>\n",
       "      <td>False</td>\n",
       "      <td>NaN</td>\n",
       "      <td>NaN</td>\n",
       "      <td>False</td>\n",
       "      <td>False</td>\n",
       "    </tr>\n",
       "    <tr>\n",
       "      <th>3</th>\n",
       "      <td>737265056</td>\n",
       "      <td>737265056</td>\n",
       "      <td>5000.0</td>\n",
       "      <td>5000.0</td>\n",
       "      <td>2016-12-10T02:14:50</td>\n",
       "      <td>7.47</td>\n",
       "      <td>Play Store</td>\n",
       "      <td>US</td>\n",
       "      <td>US</td>\n",
       "      <td>09</td>\n",
       "      <td>...</td>\n",
       "      <td>NaN</td>\n",
       "      <td>0.0</td>\n",
       "      <td>NaN</td>\n",
       "      <td>NaN</td>\n",
       "      <td>NaN</td>\n",
       "      <td>False</td>\n",
       "      <td>NaN</td>\n",
       "      <td>NaN</td>\n",
       "      <td>False</td>\n",
       "      <td>False</td>\n",
       "    </tr>\n",
       "    <tr>\n",
       "      <th>4</th>\n",
       "      <td>830329091</td>\n",
       "      <td>830329091</td>\n",
       "      <td>5000.0</td>\n",
       "      <td>5000.0</td>\n",
       "      <td>2016-03-24T21:04:46</td>\n",
       "      <td>71.18</td>\n",
       "      <td>Tim Hortons #947751</td>\n",
       "      <td>US</td>\n",
       "      <td>US</td>\n",
       "      <td>02</td>\n",
       "      <td>...</td>\n",
       "      <td>NaN</td>\n",
       "      <td>0.0</td>\n",
       "      <td>NaN</td>\n",
       "      <td>NaN</td>\n",
       "      <td>NaN</td>\n",
       "      <td>True</td>\n",
       "      <td>NaN</td>\n",
       "      <td>NaN</td>\n",
       "      <td>False</td>\n",
       "      <td>False</td>\n",
       "    </tr>\n",
       "  </tbody>\n",
       "</table>\n",
       "<p>5 rows × 29 columns</p>\n",
       "</div>"
      ],
      "text/plain": [
       "  accountNumber customerId  creditLimit  availableMoney  transactionDateTime  \\\n",
       "0     737265056  737265056       5000.0          5000.0  2016-08-13T14:27:32   \n",
       "1     737265056  737265056       5000.0          5000.0  2016-10-11T05:05:54   \n",
       "2     737265056  737265056       5000.0          5000.0  2016-11-08T09:18:39   \n",
       "3     737265056  737265056       5000.0          5000.0  2016-12-10T02:14:50   \n",
       "4     830329091  830329091       5000.0          5000.0  2016-03-24T21:04:46   \n",
       "\n",
       "   transactionAmount         merchantName acqCountry merchantCountryCode  \\\n",
       "0              98.55                 Uber         US                  US   \n",
       "1              74.51          AMC #191138         US                  US   \n",
       "2               7.47           Play Store         US                  US   \n",
       "3               7.47           Play Store         US                  US   \n",
       "4              71.18  Tim Hortons #947751         US                  US   \n",
       "\n",
       "  posEntryMode  ... echoBuffer currentBalance merchantCity merchantState  \\\n",
       "0           02  ...        NaN            0.0          NaN           NaN   \n",
       "1           09  ...        NaN            0.0          NaN           NaN   \n",
       "2           09  ...        NaN            0.0          NaN           NaN   \n",
       "3           09  ...        NaN            0.0          NaN           NaN   \n",
       "4           02  ...        NaN            0.0          NaN           NaN   \n",
       "\n",
       "  merchantZip cardPresent posOnPremises recurringAuthInd  \\\n",
       "0         NaN       False           NaN              NaN   \n",
       "1         NaN        True           NaN              NaN   \n",
       "2         NaN       False           NaN              NaN   \n",
       "3         NaN       False           NaN              NaN   \n",
       "4         NaN        True           NaN              NaN   \n",
       "\n",
       "  expirationDateKeyInMatch  isFraud  \n",
       "0                    False    False  \n",
       "1                    False    False  \n",
       "2                    False    False  \n",
       "3                    False    False  \n",
       "4                    False    False  \n",
       "\n",
       "[5 rows x 29 columns]"
      ]
     },
     "execution_count": 5,
     "metadata": {},
     "output_type": "execute_result"
    }
   ],
   "source": [
    "# We can see that there are multiple blank cells in the dataset, so I will firstly convert these cells into \"NaN\".\n",
    "\n",
    "data = data.replace(r'^\\s*$', np.nan, regex=True)\n",
    "data.head()"
   ]
  },
  {
   "cell_type": "code",
   "execution_count": 6,
   "metadata": {},
   "outputs": [
    {
     "name": "stdout",
     "output_type": "stream",
     "text": [
      "This dataset includes 786363 records and each record contains 29 fields.\n"
     ]
    }
   ],
   "source": [
    "# Get the shape of the dataset\n",
    "\n",
    "dshape = data.shape\n",
    "print(f'This dataset includes {dshape[0]} records and each record contains {dshape[1]} fields.')"
   ]
  },
  {
   "cell_type": "code",
   "execution_count": 7,
   "metadata": {},
   "outputs": [
    {
     "data": {
      "text/plain": [
       "Index(['accountNumber', 'customerId', 'creditLimit', 'availableMoney',\n",
       "       'transactionDateTime', 'transactionAmount', 'merchantName',\n",
       "       'acqCountry', 'merchantCountryCode', 'posEntryMode', 'posConditionCode',\n",
       "       'merchantCategoryCode', 'currentExpDate', 'accountOpenDate',\n",
       "       'dateOfLastAddressChange', 'cardCVV', 'enteredCVV', 'cardLast4Digits',\n",
       "       'transactionType', 'echoBuffer', 'currentBalance', 'merchantCity',\n",
       "       'merchantState', 'merchantZip', 'cardPresent', 'posOnPremises',\n",
       "       'recurringAuthInd', 'expirationDateKeyInMatch', 'isFraud'],\n",
       "      dtype='object')"
      ]
     },
     "execution_count": 7,
     "metadata": {},
     "output_type": "execute_result"
    }
   ],
   "source": [
    "# Get all column names in the dataset\n",
    "\n",
    "data.columns"
   ]
  },
  {
   "cell_type": "code",
   "execution_count": 8,
   "metadata": {},
   "outputs": [
    {
     "name": "stdout",
     "output_type": "stream",
     "text": [
      "<class 'pandas.core.frame.DataFrame'>\n",
      "RangeIndex: 786363 entries, 0 to 786362\n",
      "Data columns (total 29 columns):\n",
      "accountNumber               786363 non-null object\n",
      "customerId                  786363 non-null object\n",
      "creditLimit                 786363 non-null float64\n",
      "availableMoney              786363 non-null float64\n",
      "transactionDateTime         786363 non-null object\n",
      "transactionAmount           786363 non-null float64\n",
      "merchantName                786363 non-null object\n",
      "acqCountry                  781801 non-null object\n",
      "merchantCountryCode         785639 non-null object\n",
      "posEntryMode                782309 non-null object\n",
      "posConditionCode            785954 non-null object\n",
      "merchantCategoryCode        786363 non-null object\n",
      "currentExpDate              786363 non-null object\n",
      "accountOpenDate             786363 non-null object\n",
      "dateOfLastAddressChange     786363 non-null object\n",
      "cardCVV                     786363 non-null object\n",
      "enteredCVV                  786363 non-null object\n",
      "cardLast4Digits             786363 non-null object\n",
      "transactionType             785665 non-null object\n",
      "echoBuffer                  0 non-null float64\n",
      "currentBalance              786363 non-null float64\n",
      "merchantCity                0 non-null float64\n",
      "merchantState               0 non-null float64\n",
      "merchantZip                 0 non-null float64\n",
      "cardPresent                 786363 non-null bool\n",
      "posOnPremises               0 non-null float64\n",
      "recurringAuthInd            0 non-null float64\n",
      "expirationDateKeyInMatch    786363 non-null bool\n",
      "isFraud                     786363 non-null bool\n",
      "dtypes: bool(3), float64(10), object(16)\n",
      "memory usage: 158.2+ MB\n"
     ]
    }
   ],
   "source": [
    "# Get the name and type of each column in the dataset\n",
    "\n",
    "data.info(verbose=True)\n",
    "# This dataset has 3 columns containing boolean data, 10 columns containing floating point data and 16 columns containing object data."
   ]
  },
  {
   "cell_type": "markdown",
   "metadata": {},
   "source": [
    "# Make Plots<a name=\"heading--2\"/>"
   ]
  },
  {
   "cell_type": "markdown",
   "metadata": {},
   "source": [
    "## 1. Plot a histogram of the processed amounts of each transaction, the transactionAmount column. <a name=\"heading--2-1\"/>"
   ]
  },
  {
   "cell_type": "code",
   "execution_count": 85,
   "metadata": {},
   "outputs": [
    {
     "data": {
      "image/png": "[encoded data removed]",
      "text/plain": [
       "<Figure size 432x288 with 1 Axes>"
      ]
     },
     "metadata": {
      "needs_background": "light"
     },
     "output_type": "display_data"
    }
   ],
   "source": [
    "# I firstly get a basic histogram \n",
    "# with transaction amount on the x-axis and count of the corresponding amount on the y-axis\n",
    "\n",
    "plt.hist(data['transactionAmount'], color='blue', edgecolor='black', bins=20)\n",
    "plt.xlabel('Amount of transaction', fontsize=10)\n",
    "plt.ylabel('Count', fontsize=10)\n",
    "plt.show()"
   ]
  },
  {
   "cell_type": "markdown",
   "metadata": {},
   "source": [
    "- As we can find in the above histogram, there're some outliers. So I then detect and remove outliers and plot a basic histogram with remaining transaction values"
   ]
  },
  {
   "cell_type": "code",
   "execution_count": 86,
   "metadata": {},
   "outputs": [
    {
     "data": {
      "image/png": "[encoded data removed]",
      "text/plain": [
       "<Figure size 432x288 with 1 Axes>"
      ]
     },
     "metadata": {
      "needs_background": "light"
     },
     "output_type": "display_data"
    }
   ],
   "source": [
    "# Generally speaking, transaction values should be no less than 0, so I remove values which < 0 \n",
    "# According to the definition of outlier, I also remove values which are greater than Q3 + 1.5IQR\n",
    "q1, q3 = np.percentile(sorted(data.transactionAmount),[25,75])\n",
    "iqr = q3 - q1\n",
    "lower_bound = 0\n",
    "upper_bound = q3 + (1.5 * iqr) \n",
    "x = data.transactionAmount[data.transactionAmount.between(lower_bound, upper_bound)]\n",
    "\n",
    "plt.hist(x, color='blue', edgecolor='black', bins=20)\n",
    "plt.xlabel('Amount of transaction without outliers', fontsize=10)\n",
    "plt.ylabel('Count', fontsize=10)\n",
    "plt.show()"
   ]
  },
  {
   "cell_type": "code",
   "execution_count": 87,
   "metadata": {},
   "outputs": [
    {
     "data": {
      "image/png": "[encoded data removed]",
      "text/plain": [
       "<Figure size 576x576 with 2 Axes>"
      ]
     },
     "metadata": {
      "needs_background": "light"
     },
     "output_type": "display_data"
    }
   ],
   "source": [
    "# Make kernel density estimate plots of transaction amount\n",
    "\n",
    "# A KDE plot of transactions with outliers\n",
    "fig, ax = plt.subplots(nrows=2, ncols=1, figsize=(8, 8))\n",
    "sns.distplot(data['transactionAmount'], hist=True, bins=20, kde=True, ax=ax[0])\n",
    "ax[0].set_title('Histogram of transactionAmount with outliers', fontsize=10)\n",
    "\n",
    "# A KDE plot of transactions without outliers\n",
    "sns.distplot(x, hist=True, bins=20, kde=True, ax=ax[1])\n",
    "ax[1].set_title('Histogram of transaction amount without outliers', fontsize=10)\n",
    "plt.tight_layout()\n",
    "plt.show()"
   ]
  },
  {
   "cell_type": "code",
   "execution_count": 88,
   "metadata": {
    "scrolled": true
   },
   "outputs": [
    {
     "data": {
      "image/png": "[encoded data removed]",
      "text/plain": [
       "<Figure size 432x288 with 1 Axes>"
      ]
     },
     "metadata": {
      "needs_background": "light"
     },
     "output_type": "display_data"
    },
    {
     "data": {
      "image/png": "[encoded data removed]",
      "text/plain": [
       "<Figure size 432x288 with 1 Axes>"
      ]
     },
     "metadata": {
      "needs_background": "light"
     },
     "output_type": "display_data"
    }
   ],
   "source": [
    "# Make cumulative distribution plots of transaction amount\n",
    "\n",
    "# A cumulative distribution plot of transactions with outliers\n",
    "plt.subplot(2, 1, 1)\n",
    "H,X1 = np.histogram(data['transactionAmount'], density=True, bins=20)\n",
    "dx = X1[1] - X1[0]\n",
    "F1 = np.cumsum(H)*dx\n",
    "plt.plot(X1[1:], F1, color='blue')\n",
    "plt.xlabel('Amount of transaction with outliers', fontsize=10)\n",
    "plt.ylabel('Proportion', fontsize=10)\n",
    "plt.show()\n",
    "\n",
    "# A cumulative distribution plot of transactions without outliers\n",
    "plt.subplot(2, 1, 2)\n",
    "H,X1 = np.histogram(x, density=True, bins=20)\n",
    "dx = X1[1] - X1[0]\n",
    "F1 = np.cumsum(H)*dx\n",
    "plt.plot(X1[1:], F1, color='blue')\n",
    "plt.xlabel('Amount of transaction without outliers', fontsize=10)\n",
    "plt.ylabel('Proportion', fontsize=10)\n",
    "plt.show()"
   ]
  },
  {
   "cell_type": "markdown",
   "metadata": {},
   "source": [
    "## 2. Report any structure you find and any hypotheses you have about that structure. <a name=\"heading--2-2\"/>"
   ]
  },
  {
   "cell_type": "markdown",
   "metadata": {},
   "source": [
    "- From the histograms above, we can see that the distribuion of transaction amount is severely right-skewed.\n",
    "- So I hypothesize that the amount of a valid transaction is highly possible to lie between 0 to 500. And from the cumulative distribution plots, we can say that half of transactions will be less than 100."
   ]
  },
  {
   "cell_type": "markdown",
   "metadata": {},
   "source": [
    "# Data Wrangling - Duplicate Transactions <a name=\"heading--3\"/>"
   ]
  },
  {
   "cell_type": "markdown",
   "metadata": {},
   "source": [
    "##  1. Programmatically identify reversed and multi-swipe transactions. <a name=\"heading--3-1\"/>"
   ]
  },
  {
   "cell_type": "markdown",
   "metadata": {},
   "source": [
    "### 1.1 Reversed transactions <a name=\"heading--3-1-1\"/>"
   ]
  },
  {
   "cell_type": "markdown",
   "metadata": {},
   "source": [
    "The criteria for a reversed transaction is that a purchase should be followed by a reversal, which indicates that:\n",
    "- 1. one purchase should have a corrsponding one reversal\n",
    "- 2. the transactionDateTime of the purchase should be earlier than the reversal\n",
    "\n",
    "With these 2 criteria, to filter all reversed transactions, basically what I did are:\n",
    "- 1. selecting duplicated rows based on 'accountNumber', 'customerId', 'transactionAmount', 'merchantName' to find transactions of same amount within the same account from the same merchant, which are possible to be reversed transactions\n",
    "- 2. creating 2 seperate datasets pur_tran and rev_tran from the duplicated dataset, one containing all purchasing records from the duplicated dataset and the other containing all reversal records from the duplicated dataset\n",
    "- 3. inner joining 2 datasets by 'accountNumber', 'customerId', 'transactionAmount', 'merchantName', which means that for every record in the purchasing dataset, if there's a record in the reversal dataset which has the same values in 'accountNumber', 'customerId', 'transactionAmount', 'merchantName', this 2 records will be merged into a new dataset. In the new dataset, features with suffix_x refers to the features from the original purchasing data, features with suffix_y refers to variables from the reversal data\n",
    "- 4. selecting rows which its purchasing transaction DateTime is earlier than its reversal transaction DateTime"
   ]
  },
  {
   "cell_type": "code",
   "execution_count": 49,
   "metadata": {},
   "outputs": [],
   "source": [
    "# Convert time columns to standard format\n",
    "\n",
    "data['transactionDateTime'] = pd.to_datetime(data['transactionDateTime'], infer_datetime_format=True)\n",
    "data['currentExpDate'] = pd.to_datetime(data['currentExpDate'], infer_datetime_format=True)\n",
    "data['accountOpenDate'] = pd.to_datetime(data['accountOpenDate'], infer_datetime_format=True)\n",
    "data['dateOfLastAddressChange'] = pd.to_datetime(data['dateOfLastAddressChange'], infer_datetime_format=True)"
   ]
  },
  {
   "cell_type": "code",
   "execution_count": 89,
   "metadata": {},
   "outputs": [],
   "source": [
    "# Select duplicated rows based on 'accountNumber', 'customerId', 'transactionAmount', 'merchantName' \n",
    "\n",
    "duplicated = data[data.duplicated(['accountNumber', 'customerId', 'transactionAmount', 'merchantName'], keep=False)]"
   ]
  },
  {
   "cell_type": "code",
   "execution_count": 90,
   "metadata": {},
   "outputs": [],
   "source": [
    "# Get all records whose transaction type is purchase from the duplicated data\n",
    "\n",
    "pur_tran = duplicated[duplicated.transactionType == 'PURCHASE']"
   ]
  },
  {
   "cell_type": "code",
   "execution_count": 91,
   "metadata": {
    "scrolled": false
   },
   "outputs": [],
   "source": [
    "# Get all records whose transaction type is reversal from the duplicated data\n",
    "\n",
    "rev_tran = duplicated[duplicated.transactionType == 'REVERSAL']"
   ]
  },
  {
   "cell_type": "code",
   "execution_count": 92,
   "metadata": {},
   "outputs": [
    {
     "data": {
      "text/html": [
       "<div>\n",
       "<style scoped>\n",
       "    .dataframe tbody tr th:only-of-type {\n",
       "        vertical-align: middle;\n",
       "    }\n",
       "\n",
       "    .dataframe tbody tr th {\n",
       "        vertical-align: top;\n",
       "    }\n",
       "\n",
       "    .dataframe thead th {\n",
       "        text-align: right;\n",
       "    }\n",
       "</style>\n",
       "<table border=\"1\" class=\"dataframe\">\n",
       "  <thead>\n",
       "    <tr style=\"text-align: right;\">\n",
       "      <th></th>\n",
       "      <th>accountNumber</th>\n",
       "      <th>customerId</th>\n",
       "      <th>creditLimit_x</th>\n",
       "      <th>availableMoney_x</th>\n",
       "      <th>transactionDateTime_x</th>\n",
       "      <th>transactionAmount</th>\n",
       "      <th>merchantName</th>\n",
       "      <th>acqCountry_x</th>\n",
       "      <th>merchantCountryCode_x</th>\n",
       "      <th>posEntryMode_x</th>\n",
       "      <th>...</th>\n",
       "      <th>echoBuffer_y</th>\n",
       "      <th>currentBalance_y</th>\n",
       "      <th>merchantCity_y</th>\n",
       "      <th>merchantState_y</th>\n",
       "      <th>merchantZip_y</th>\n",
       "      <th>cardPresent_y</th>\n",
       "      <th>posOnPremises_y</th>\n",
       "      <th>recurringAuthInd_y</th>\n",
       "      <th>expirationDateKeyInMatch_y</th>\n",
       "      <th>isFraud_y</th>\n",
       "    </tr>\n",
       "  </thead>\n",
       "  <tbody>\n",
       "    <tr>\n",
       "      <th>0</th>\n",
       "      <td>574788567</td>\n",
       "      <td>574788567</td>\n",
       "      <td>2500.0</td>\n",
       "      <td>2416.11</td>\n",
       "      <td>2016-05-24 01:35:33</td>\n",
       "      <td>215.13</td>\n",
       "      <td>Convenient Tire</td>\n",
       "      <td>US</td>\n",
       "      <td>US</td>\n",
       "      <td>09</td>\n",
       "      <td>...</td>\n",
       "      <td>NaN</td>\n",
       "      <td>299.02</td>\n",
       "      <td>NaN</td>\n",
       "      <td>NaN</td>\n",
       "      <td>NaN</td>\n",
       "      <td>True</td>\n",
       "      <td>NaN</td>\n",
       "      <td>NaN</td>\n",
       "      <td>False</td>\n",
       "      <td>False</td>\n",
       "    </tr>\n",
       "    <tr>\n",
       "      <th>1</th>\n",
       "      <td>924729945</td>\n",
       "      <td>924729945</td>\n",
       "      <td>50000.0</td>\n",
       "      <td>50000.00</td>\n",
       "      <td>2016-10-04 04:20:04</td>\n",
       "      <td>168.57</td>\n",
       "      <td>discount.com</td>\n",
       "      <td>US</td>\n",
       "      <td>US</td>\n",
       "      <td>05</td>\n",
       "      <td>...</td>\n",
       "      <td>NaN</td>\n",
       "      <td>168.57</td>\n",
       "      <td>NaN</td>\n",
       "      <td>NaN</td>\n",
       "      <td>NaN</td>\n",
       "      <td>False</td>\n",
       "      <td>NaN</td>\n",
       "      <td>NaN</td>\n",
       "      <td>False</td>\n",
       "      <td>False</td>\n",
       "    </tr>\n",
       "    <tr>\n",
       "      <th>2</th>\n",
       "      <td>984504651</td>\n",
       "      <td>984504651</td>\n",
       "      <td>50000.0</td>\n",
       "      <td>49138.85</td>\n",
       "      <td>2016-01-06 04:08:06</td>\n",
       "      <td>83.64</td>\n",
       "      <td>1st Sandwitch Bar #801388</td>\n",
       "      <td>US</td>\n",
       "      <td>US</td>\n",
       "      <td>09</td>\n",
       "      <td>...</td>\n",
       "      <td>NaN</td>\n",
       "      <td>11909.30</td>\n",
       "      <td>NaN</td>\n",
       "      <td>NaN</td>\n",
       "      <td>NaN</td>\n",
       "      <td>True</td>\n",
       "      <td>NaN</td>\n",
       "      <td>NaN</td>\n",
       "      <td>False</td>\n",
       "      <td>False</td>\n",
       "    </tr>\n",
       "    <tr>\n",
       "      <th>3</th>\n",
       "      <td>984504651</td>\n",
       "      <td>984504651</td>\n",
       "      <td>50000.0</td>\n",
       "      <td>46818.15</td>\n",
       "      <td>2016-01-16 09:52:30</td>\n",
       "      <td>450.74</td>\n",
       "      <td>Planet Fitness #849960</td>\n",
       "      <td>US</td>\n",
       "      <td>US</td>\n",
       "      <td>05</td>\n",
       "      <td>...</td>\n",
       "      <td>NaN</td>\n",
       "      <td>3632.59</td>\n",
       "      <td>NaN</td>\n",
       "      <td>NaN</td>\n",
       "      <td>NaN</td>\n",
       "      <td>False</td>\n",
       "      <td>NaN</td>\n",
       "      <td>NaN</td>\n",
       "      <td>False</td>\n",
       "      <td>False</td>\n",
       "    </tr>\n",
       "    <tr>\n",
       "      <th>4</th>\n",
       "      <td>984504651</td>\n",
       "      <td>984504651</td>\n",
       "      <td>50000.0</td>\n",
       "      <td>46341.05</td>\n",
       "      <td>2016-01-17 08:13:08</td>\n",
       "      <td>81.73</td>\n",
       "      <td>AMC #724446</td>\n",
       "      <td>US</td>\n",
       "      <td>US</td>\n",
       "      <td>09</td>\n",
       "      <td>...</td>\n",
       "      <td>NaN</td>\n",
       "      <td>8090.70</td>\n",
       "      <td>NaN</td>\n",
       "      <td>NaN</td>\n",
       "      <td>NaN</td>\n",
       "      <td>True</td>\n",
       "      <td>NaN</td>\n",
       "      <td>NaN</td>\n",
       "      <td>False</td>\n",
       "      <td>False</td>\n",
       "    </tr>\n",
       "  </tbody>\n",
       "</table>\n",
       "<p>5 rows × 54 columns</p>\n",
       "</div>"
      ],
      "text/plain": [
       "  accountNumber customerId  creditLimit_x  availableMoney_x  \\\n",
       "0     574788567  574788567         2500.0           2416.11   \n",
       "1     924729945  924729945        50000.0          50000.00   \n",
       "2     984504651  984504651        50000.0          49138.85   \n",
       "3     984504651  984504651        50000.0          46818.15   \n",
       "4     984504651  984504651        50000.0          46341.05   \n",
       "\n",
       "  transactionDateTime_x  transactionAmount               merchantName  \\\n",
       "0   2016-05-24 01:35:33             215.13            Convenient Tire   \n",
       "1   2016-10-04 04:20:04             168.57               discount.com   \n",
       "2   2016-01-06 04:08:06              83.64  1st Sandwitch Bar #801388   \n",
       "3   2016-01-16 09:52:30             450.74     Planet Fitness #849960   \n",
       "4   2016-01-17 08:13:08              81.73                AMC #724446   \n",
       "\n",
       "  acqCountry_x merchantCountryCode_x posEntryMode_x  ... echoBuffer_y  \\\n",
       "0           US                    US             09  ...          NaN   \n",
       "1           US                    US             05  ...          NaN   \n",
       "2           US                    US             09  ...          NaN   \n",
       "3           US                    US             05  ...          NaN   \n",
       "4           US                    US             09  ...          NaN   \n",
       "\n",
       "  currentBalance_y merchantCity_y merchantState_y merchantZip_y cardPresent_y  \\\n",
       "0           299.02            NaN             NaN           NaN          True   \n",
       "1           168.57            NaN             NaN           NaN         False   \n",
       "2         11909.30            NaN             NaN           NaN          True   \n",
       "3          3632.59            NaN             NaN           NaN         False   \n",
       "4          8090.70            NaN             NaN           NaN          True   \n",
       "\n",
       "  posOnPremises_y recurringAuthInd_y expirationDateKeyInMatch_y  isFraud_y  \n",
       "0             NaN                NaN                      False      False  \n",
       "1             NaN                NaN                      False      False  \n",
       "2             NaN                NaN                      False      False  \n",
       "3             NaN                NaN                      False      False  \n",
       "4             NaN                NaN                      False      False  \n",
       "\n",
       "[5 rows x 54 columns]"
      ]
     },
     "execution_count": 92,
     "metadata": {},
     "output_type": "execute_result"
    }
   ],
   "source": [
    "# Inner joined the 2 datasets by 'accountNumber', 'customerId', 'transactionAmount', 'merchantName'\n",
    "\n",
    "reversed_trans = pd.merge(pur_tran, rev_tran, on=['accountNumber', 'customerId', 'transactionAmount', 'merchantName'], how='inner')\n",
    "reversed_trans.head()"
   ]
  },
  {
   "cell_type": "code",
   "execution_count": 93,
   "metadata": {},
   "outputs": [],
   "source": [
    "# Select rows which its purchasing transaction DateTime is earlier than its reversal transaction DateTime.\n",
    "\n",
    "reversed_trans = reversed_trans[reversed_trans.transactionDateTime_x < reversed_trans.transactionDateTime_y]"
   ]
  },
  {
   "cell_type": "code",
   "execution_count": 94,
   "metadata": {},
   "outputs": [
    {
     "data": {
      "text/html": [
       "<div>\n",
       "<style scoped>\n",
       "    .dataframe tbody tr th:only-of-type {\n",
       "        vertical-align: middle;\n",
       "    }\n",
       "\n",
       "    .dataframe tbody tr th {\n",
       "        vertical-align: top;\n",
       "    }\n",
       "\n",
       "    .dataframe thead th {\n",
       "        text-align: right;\n",
       "    }\n",
       "</style>\n",
       "<table border=\"1\" class=\"dataframe\">\n",
       "  <thead>\n",
       "    <tr style=\"text-align: right;\">\n",
       "      <th></th>\n",
       "      <th>accountNumber</th>\n",
       "      <th>customerId</th>\n",
       "      <th>transactionAmount</th>\n",
       "      <th>merchantName</th>\n",
       "      <th>transactionDateTime_x</th>\n",
       "      <th>transactionDateTime_y</th>\n",
       "      <th>transactionType_x</th>\n",
       "      <th>transactionType_y</th>\n",
       "    </tr>\n",
       "  </thead>\n",
       "  <tbody>\n",
       "    <tr>\n",
       "      <th>0</th>\n",
       "      <td>574788567</td>\n",
       "      <td>574788567</td>\n",
       "      <td>215.13</td>\n",
       "      <td>Convenient Tire</td>\n",
       "      <td>2016-05-24 01:35:33</td>\n",
       "      <td>2016-05-24 01:38:03</td>\n",
       "      <td>PURCHASE</td>\n",
       "      <td>REVERSAL</td>\n",
       "    </tr>\n",
       "    <tr>\n",
       "      <th>1</th>\n",
       "      <td>924729945</td>\n",
       "      <td>924729945</td>\n",
       "      <td>168.57</td>\n",
       "      <td>discount.com</td>\n",
       "      <td>2016-10-04 04:20:04</td>\n",
       "      <td>2016-10-19 14:01:45</td>\n",
       "      <td>PURCHASE</td>\n",
       "      <td>REVERSAL</td>\n",
       "    </tr>\n",
       "    <tr>\n",
       "      <th>2</th>\n",
       "      <td>984504651</td>\n",
       "      <td>984504651</td>\n",
       "      <td>83.64</td>\n",
       "      <td>1st Sandwitch Bar #801388</td>\n",
       "      <td>2016-01-06 04:08:06</td>\n",
       "      <td>2016-02-04 00:14:42</td>\n",
       "      <td>PURCHASE</td>\n",
       "      <td>REVERSAL</td>\n",
       "    </tr>\n",
       "    <tr>\n",
       "      <th>3</th>\n",
       "      <td>984504651</td>\n",
       "      <td>984504651</td>\n",
       "      <td>450.74</td>\n",
       "      <td>Planet Fitness #849960</td>\n",
       "      <td>2016-01-16 09:52:30</td>\n",
       "      <td>2016-01-16 09:53:15</td>\n",
       "      <td>PURCHASE</td>\n",
       "      <td>REVERSAL</td>\n",
       "    </tr>\n",
       "    <tr>\n",
       "      <th>4</th>\n",
       "      <td>984504651</td>\n",
       "      <td>984504651</td>\n",
       "      <td>81.73</td>\n",
       "      <td>AMC #724446</td>\n",
       "      <td>2016-01-17 08:13:08</td>\n",
       "      <td>2016-01-25 20:39:15</td>\n",
       "      <td>PURCHASE</td>\n",
       "      <td>REVERSAL</td>\n",
       "    </tr>\n",
       "  </tbody>\n",
       "</table>\n",
       "</div>"
      ],
      "text/plain": [
       "  accountNumber customerId  transactionAmount               merchantName  \\\n",
       "0     574788567  574788567             215.13            Convenient Tire   \n",
       "1     924729945  924729945             168.57               discount.com   \n",
       "2     984504651  984504651              83.64  1st Sandwitch Bar #801388   \n",
       "3     984504651  984504651             450.74     Planet Fitness #849960   \n",
       "4     984504651  984504651              81.73                AMC #724446   \n",
       "\n",
       "  transactionDateTime_x transactionDateTime_y transactionType_x  \\\n",
       "0   2016-05-24 01:35:33   2016-05-24 01:38:03          PURCHASE   \n",
       "1   2016-10-04 04:20:04   2016-10-19 14:01:45          PURCHASE   \n",
       "2   2016-01-06 04:08:06   2016-02-04 00:14:42          PURCHASE   \n",
       "3   2016-01-16 09:52:30   2016-01-16 09:53:15          PURCHASE   \n",
       "4   2016-01-17 08:13:08   2016-01-25 20:39:15          PURCHASE   \n",
       "\n",
       "  transactionType_y  \n",
       "0          REVERSAL  \n",
       "1          REVERSAL  \n",
       "2          REVERSAL  \n",
       "3          REVERSAL  \n",
       "4          REVERSAL  "
      ]
     },
     "execution_count": 94,
     "metadata": {},
     "output_type": "execute_result"
    }
   ],
   "source": [
    "# The final reversal transaction data\n",
    "\n",
    "reversed_trans[['accountNumber', 'customerId', 'transactionAmount', 'merchantName', 'transactionDateTime_x', 'transactionDateTime_y',\n",
    "                'transactionType_x', 'transactionType_y']].head()"
   ]
  },
  {
   "cell_type": "code",
   "execution_count": 95,
   "metadata": {},
   "outputs": [],
   "source": [
    "reversed_trans.to_csv('reversed_trans.csv')"
   ]
  },
  {
   "cell_type": "markdown",
   "metadata": {},
   "source": [
    "### 1.2 Multi-swipe transactions <a name=\"heading--3-1-2\"/>"
   ]
  },
  {
   "cell_type": "markdown",
   "metadata": {},
   "source": [
    "The criteria for a multi_swipe transaction is that a vendor accidentally charges a customer's card multiple times within a short time span, which indicates that:\n",
    "- 1. there should be multiple purchases with the same transaction amount\n",
    "- 2. the transaction DateTime of different purchases should be within a short time span. I assume they are within 1 hour\n",
    "\n",
    "With these 2 criteria, to filter all reversed transactions, I will:\n",
    "- 1. select duplicated rows based on 'accountNumber', 'customerId', 'transactionAmount', 'merchantName' and 'transactionType' to find transactions of same amount within the same account from the same merchant, which are possible to be multi-swipe transaction\n",
    "- 2. select records whose transaction type is purchasing\n",
    "- 3. group purchasing dataset and apply a function to calculate the time span between transactions with the same amount from the merchant\n",
    "- 4. select rows which transaction time span is less than 1 hour"
   ]
  },
  {
   "cell_type": "code",
   "execution_count": 96,
   "metadata": {},
   "outputs": [],
   "source": [
    "# Select duplicated rows based on 'accountNumber', 'customerId', 'transactionAmount', 'merchantName', 'transactionType'\n",
    "\n",
    "duplicated = data[data.duplicated(['accountNumber', 'customerId', 'transactionAmount', 'merchantName', 'transactionType'], \n",
    "                                  keep=False)]"
   ]
  },
  {
   "cell_type": "code",
   "execution_count": 97,
   "metadata": {},
   "outputs": [
    {
     "data": {
      "text/html": [
       "<div>\n",
       "<style scoped>\n",
       "    .dataframe tbody tr th:only-of-type {\n",
       "        vertical-align: middle;\n",
       "    }\n",
       "\n",
       "    .dataframe tbody tr th {\n",
       "        vertical-align: top;\n",
       "    }\n",
       "\n",
       "    .dataframe thead th {\n",
       "        text-align: right;\n",
       "    }\n",
       "</style>\n",
       "<table border=\"1\" class=\"dataframe\">\n",
       "  <thead>\n",
       "    <tr style=\"text-align: right;\">\n",
       "      <th></th>\n",
       "      <th>accountNumber</th>\n",
       "      <th>customerId</th>\n",
       "      <th>creditLimit</th>\n",
       "      <th>availableMoney</th>\n",
       "      <th>transactionDateTime</th>\n",
       "      <th>transactionAmount</th>\n",
       "      <th>merchantName</th>\n",
       "      <th>acqCountry</th>\n",
       "      <th>merchantCountryCode</th>\n",
       "      <th>posEntryMode</th>\n",
       "      <th>...</th>\n",
       "      <th>echoBuffer</th>\n",
       "      <th>currentBalance</th>\n",
       "      <th>merchantCity</th>\n",
       "      <th>merchantState</th>\n",
       "      <th>merchantZip</th>\n",
       "      <th>cardPresent</th>\n",
       "      <th>posOnPremises</th>\n",
       "      <th>recurringAuthInd</th>\n",
       "      <th>expirationDateKeyInMatch</th>\n",
       "      <th>isFraud</th>\n",
       "    </tr>\n",
       "  </thead>\n",
       "  <tbody>\n",
       "    <tr>\n",
       "      <th>2</th>\n",
       "      <td>737265056</td>\n",
       "      <td>737265056</td>\n",
       "      <td>5000.0</td>\n",
       "      <td>5000.00</td>\n",
       "      <td>2016-11-08 09:18:39</td>\n",
       "      <td>7.47</td>\n",
       "      <td>Play Store</td>\n",
       "      <td>US</td>\n",
       "      <td>US</td>\n",
       "      <td>09</td>\n",
       "      <td>...</td>\n",
       "      <td>NaN</td>\n",
       "      <td>0.00</td>\n",
       "      <td>NaN</td>\n",
       "      <td>NaN</td>\n",
       "      <td>NaN</td>\n",
       "      <td>False</td>\n",
       "      <td>NaN</td>\n",
       "      <td>NaN</td>\n",
       "      <td>False</td>\n",
       "      <td>False</td>\n",
       "    </tr>\n",
       "    <tr>\n",
       "      <th>3</th>\n",
       "      <td>737265056</td>\n",
       "      <td>737265056</td>\n",
       "      <td>5000.0</td>\n",
       "      <td>5000.00</td>\n",
       "      <td>2016-12-10 02:14:50</td>\n",
       "      <td>7.47</td>\n",
       "      <td>Play Store</td>\n",
       "      <td>US</td>\n",
       "      <td>US</td>\n",
       "      <td>09</td>\n",
       "      <td>...</td>\n",
       "      <td>NaN</td>\n",
       "      <td>0.00</td>\n",
       "      <td>NaN</td>\n",
       "      <td>NaN</td>\n",
       "      <td>NaN</td>\n",
       "      <td>False</td>\n",
       "      <td>NaN</td>\n",
       "      <td>NaN</td>\n",
       "      <td>False</td>\n",
       "      <td>False</td>\n",
       "    </tr>\n",
       "    <tr>\n",
       "      <th>11</th>\n",
       "      <td>830329091</td>\n",
       "      <td>830329091</td>\n",
       "      <td>5000.0</td>\n",
       "      <td>5000.00</td>\n",
       "      <td>2016-12-07 16:34:04</td>\n",
       "      <td>40.75</td>\n",
       "      <td>GreenCook</td>\n",
       "      <td>US</td>\n",
       "      <td>US</td>\n",
       "      <td>09</td>\n",
       "      <td>...</td>\n",
       "      <td>NaN</td>\n",
       "      <td>0.00</td>\n",
       "      <td>NaN</td>\n",
       "      <td>NaN</td>\n",
       "      <td>NaN</td>\n",
       "      <td>False</td>\n",
       "      <td>NaN</td>\n",
       "      <td>NaN</td>\n",
       "      <td>False</td>\n",
       "      <td>False</td>\n",
       "    </tr>\n",
       "    <tr>\n",
       "      <th>12</th>\n",
       "      <td>830329091</td>\n",
       "      <td>830329091</td>\n",
       "      <td>5000.0</td>\n",
       "      <td>4959.25</td>\n",
       "      <td>2016-12-14 10:00:35</td>\n",
       "      <td>40.75</td>\n",
       "      <td>GreenCook</td>\n",
       "      <td>US</td>\n",
       "      <td>US</td>\n",
       "      <td>09</td>\n",
       "      <td>...</td>\n",
       "      <td>NaN</td>\n",
       "      <td>40.75</td>\n",
       "      <td>NaN</td>\n",
       "      <td>NaN</td>\n",
       "      <td>NaN</td>\n",
       "      <td>False</td>\n",
       "      <td>NaN</td>\n",
       "      <td>NaN</td>\n",
       "      <td>False</td>\n",
       "      <td>False</td>\n",
       "    </tr>\n",
       "    <tr>\n",
       "      <th>13</th>\n",
       "      <td>830329091</td>\n",
       "      <td>830329091</td>\n",
       "      <td>5000.0</td>\n",
       "      <td>4918.50</td>\n",
       "      <td>2016-12-20 18:38:23</td>\n",
       "      <td>40.75</td>\n",
       "      <td>GreenCook</td>\n",
       "      <td>US</td>\n",
       "      <td>US</td>\n",
       "      <td>09</td>\n",
       "      <td>...</td>\n",
       "      <td>NaN</td>\n",
       "      <td>81.50</td>\n",
       "      <td>NaN</td>\n",
       "      <td>NaN</td>\n",
       "      <td>NaN</td>\n",
       "      <td>False</td>\n",
       "      <td>NaN</td>\n",
       "      <td>NaN</td>\n",
       "      <td>False</td>\n",
       "      <td>False</td>\n",
       "    </tr>\n",
       "  </tbody>\n",
       "</table>\n",
       "<p>5 rows × 29 columns</p>\n",
       "</div>"
      ],
      "text/plain": [
       "   accountNumber customerId  creditLimit  availableMoney transactionDateTime  \\\n",
       "2      737265056  737265056       5000.0         5000.00 2016-11-08 09:18:39   \n",
       "3      737265056  737265056       5000.0         5000.00 2016-12-10 02:14:50   \n",
       "11     830329091  830329091       5000.0         5000.00 2016-12-07 16:34:04   \n",
       "12     830329091  830329091       5000.0         4959.25 2016-12-14 10:00:35   \n",
       "13     830329091  830329091       5000.0         4918.50 2016-12-20 18:38:23   \n",
       "\n",
       "    transactionAmount merchantName acqCountry merchantCountryCode  \\\n",
       "2                7.47   Play Store         US                  US   \n",
       "3                7.47   Play Store         US                  US   \n",
       "11              40.75    GreenCook         US                  US   \n",
       "12              40.75    GreenCook         US                  US   \n",
       "13              40.75    GreenCook         US                  US   \n",
       "\n",
       "   posEntryMode  ... echoBuffer currentBalance merchantCity merchantState  \\\n",
       "2            09  ...        NaN           0.00          NaN           NaN   \n",
       "3            09  ...        NaN           0.00          NaN           NaN   \n",
       "11           09  ...        NaN           0.00          NaN           NaN   \n",
       "12           09  ...        NaN          40.75          NaN           NaN   \n",
       "13           09  ...        NaN          81.50          NaN           NaN   \n",
       "\n",
       "   merchantZip cardPresent posOnPremises recurringAuthInd  \\\n",
       "2          NaN       False           NaN              NaN   \n",
       "3          NaN       False           NaN              NaN   \n",
       "11         NaN       False           NaN              NaN   \n",
       "12         NaN       False           NaN              NaN   \n",
       "13         NaN       False           NaN              NaN   \n",
       "\n",
       "   expirationDateKeyInMatch  isFraud  \n",
       "2                     False    False  \n",
       "3                     False    False  \n",
       "11                    False    False  \n",
       "12                    False    False  \n",
       "13                    False    False  \n",
       "\n",
       "[5 rows x 29 columns]"
      ]
     },
     "execution_count": 97,
     "metadata": {},
     "output_type": "execute_result"
    }
   ],
   "source": [
    "# Select purchasing transactions and sort the purchasing data by transactionDateTime\n",
    "\n",
    "purchase = duplicated[duplicated.transactionType == 'PURCHASE']\n",
    "purchase.sort_values(['accountNumber', 'customerId', 'merchantName', 'transactionDateTime'])\n",
    "purchase.head()"
   ]
  },
  {
   "cell_type": "code",
   "execution_count": 98,
   "metadata": {
    "scrolled": true
   },
   "outputs": [],
   "source": [
    "# Group the purchasing dataset and apply a function to calculate the time span\n",
    "\n",
    "def span(df):\n",
    "    df['time_span'] = df[\"transactionDateTime\"].diff(1).dt.total_seconds() / 3600\n",
    "    return df\n",
    "\n",
    "multi_purchase = purchase.groupby(['accountNumber', 'customerId', 'merchantName', 'transactionAmount']).apply(span)"
   ]
  },
  {
   "cell_type": "code",
   "execution_count": 99,
   "metadata": {
    "scrolled": true
   },
   "outputs": [
    {
     "data": {
      "text/html": [
       "<div>\n",
       "<style scoped>\n",
       "    .dataframe tbody tr th:only-of-type {\n",
       "        vertical-align: middle;\n",
       "    }\n",
       "\n",
       "    .dataframe tbody tr th {\n",
       "        vertical-align: top;\n",
       "    }\n",
       "\n",
       "    .dataframe thead th {\n",
       "        text-align: right;\n",
       "    }\n",
       "</style>\n",
       "<table border=\"1\" class=\"dataframe\">\n",
       "  <thead>\n",
       "    <tr style=\"text-align: right;\">\n",
       "      <th></th>\n",
       "      <th>accountNumber</th>\n",
       "      <th>customerId</th>\n",
       "      <th>creditLimit</th>\n",
       "      <th>availableMoney</th>\n",
       "      <th>transactionDateTime</th>\n",
       "      <th>transactionAmount</th>\n",
       "      <th>merchantName</th>\n",
       "      <th>acqCountry</th>\n",
       "      <th>merchantCountryCode</th>\n",
       "      <th>posEntryMode</th>\n",
       "      <th>...</th>\n",
       "      <th>currentBalance</th>\n",
       "      <th>merchantCity</th>\n",
       "      <th>merchantState</th>\n",
       "      <th>merchantZip</th>\n",
       "      <th>cardPresent</th>\n",
       "      <th>posOnPremises</th>\n",
       "      <th>recurringAuthInd</th>\n",
       "      <th>expirationDateKeyInMatch</th>\n",
       "      <th>isFraud</th>\n",
       "      <th>time_span</th>\n",
       "    </tr>\n",
       "  </thead>\n",
       "  <tbody>\n",
       "    <tr>\n",
       "      <th>263</th>\n",
       "      <td>984504651</td>\n",
       "      <td>984504651</td>\n",
       "      <td>50000.0</td>\n",
       "      <td>26680.99</td>\n",
       "      <td>2016-03-12 06:34:29</td>\n",
       "      <td>118.52</td>\n",
       "      <td>AMC #706324</td>\n",
       "      <td>US</td>\n",
       "      <td>US</td>\n",
       "      <td>02</td>\n",
       "      <td>...</td>\n",
       "      <td>23319.01</td>\n",
       "      <td>NaN</td>\n",
       "      <td>NaN</td>\n",
       "      <td>NaN</td>\n",
       "      <td>True</td>\n",
       "      <td>NaN</td>\n",
       "      <td>NaN</td>\n",
       "      <td>False</td>\n",
       "      <td>False</td>\n",
       "      <td>0.004444</td>\n",
       "    </tr>\n",
       "    <tr>\n",
       "      <th>264</th>\n",
       "      <td>984504651</td>\n",
       "      <td>984504651</td>\n",
       "      <td>50000.0</td>\n",
       "      <td>26562.47</td>\n",
       "      <td>2016-03-12 06:36:41</td>\n",
       "      <td>118.52</td>\n",
       "      <td>AMC #706324</td>\n",
       "      <td>US</td>\n",
       "      <td>US</td>\n",
       "      <td>02</td>\n",
       "      <td>...</td>\n",
       "      <td>23437.53</td>\n",
       "      <td>NaN</td>\n",
       "      <td>NaN</td>\n",
       "      <td>NaN</td>\n",
       "      <td>True</td>\n",
       "      <td>NaN</td>\n",
       "      <td>NaN</td>\n",
       "      <td>False</td>\n",
       "      <td>False</td>\n",
       "      <td>0.036667</td>\n",
       "    </tr>\n",
       "    <tr>\n",
       "      <th>281</th>\n",
       "      <td>984504651</td>\n",
       "      <td>984504651</td>\n",
       "      <td>50000.0</td>\n",
       "      <td>24316.12</td>\n",
       "      <td>2016-03-18 13:57:04</td>\n",
       "      <td>26.71</td>\n",
       "      <td>Planet Fitness #692929</td>\n",
       "      <td>US</td>\n",
       "      <td>US</td>\n",
       "      <td>02</td>\n",
       "      <td>...</td>\n",
       "      <td>25683.88</td>\n",
       "      <td>NaN</td>\n",
       "      <td>NaN</td>\n",
       "      <td>NaN</td>\n",
       "      <td>True</td>\n",
       "      <td>NaN</td>\n",
       "      <td>NaN</td>\n",
       "      <td>False</td>\n",
       "      <td>False</td>\n",
       "      <td>0.012222</td>\n",
       "    </tr>\n",
       "    <tr>\n",
       "      <th>339</th>\n",
       "      <td>984504651</td>\n",
       "      <td>984504651</td>\n",
       "      <td>50000.0</td>\n",
       "      <td>16503.49</td>\n",
       "      <td>2016-04-08 22:21:11</td>\n",
       "      <td>43.21</td>\n",
       "      <td>WSC #994275</td>\n",
       "      <td>US</td>\n",
       "      <td>US</td>\n",
       "      <td>02</td>\n",
       "      <td>...</td>\n",
       "      <td>33496.51</td>\n",
       "      <td>NaN</td>\n",
       "      <td>NaN</td>\n",
       "      <td>NaN</td>\n",
       "      <td>False</td>\n",
       "      <td>NaN</td>\n",
       "      <td>NaN</td>\n",
       "      <td>False</td>\n",
       "      <td>False</td>\n",
       "      <td>0.010556</td>\n",
       "    </tr>\n",
       "    <tr>\n",
       "      <th>413</th>\n",
       "      <td>984504651</td>\n",
       "      <td>984504651</td>\n",
       "      <td>50000.0</td>\n",
       "      <td>7302.32</td>\n",
       "      <td>2016-05-07 07:32:54</td>\n",
       "      <td>23.82</td>\n",
       "      <td>Golds Gym #846582</td>\n",
       "      <td>US</td>\n",
       "      <td>US</td>\n",
       "      <td>09</td>\n",
       "      <td>...</td>\n",
       "      <td>42697.68</td>\n",
       "      <td>NaN</td>\n",
       "      <td>NaN</td>\n",
       "      <td>NaN</td>\n",
       "      <td>True</td>\n",
       "      <td>NaN</td>\n",
       "      <td>NaN</td>\n",
       "      <td>False</td>\n",
       "      <td>False</td>\n",
       "      <td>0.047778</td>\n",
       "    </tr>\n",
       "  </tbody>\n",
       "</table>\n",
       "<p>5 rows × 30 columns</p>\n",
       "</div>"
      ],
      "text/plain": [
       "    accountNumber customerId  creditLimit  availableMoney transactionDateTime  \\\n",
       "263     984504651  984504651      50000.0        26680.99 2016-03-12 06:34:29   \n",
       "264     984504651  984504651      50000.0        26562.47 2016-03-12 06:36:41   \n",
       "281     984504651  984504651      50000.0        24316.12 2016-03-18 13:57:04   \n",
       "339     984504651  984504651      50000.0        16503.49 2016-04-08 22:21:11   \n",
       "413     984504651  984504651      50000.0         7302.32 2016-05-07 07:32:54   \n",
       "\n",
       "     transactionAmount            merchantName acqCountry merchantCountryCode  \\\n",
       "263             118.52             AMC #706324         US                  US   \n",
       "264             118.52             AMC #706324         US                  US   \n",
       "281              26.71  Planet Fitness #692929         US                  US   \n",
       "339              43.21             WSC #994275         US                  US   \n",
       "413              23.82       Golds Gym #846582         US                  US   \n",
       "\n",
       "    posEntryMode  ... currentBalance merchantCity merchantState merchantZip  \\\n",
       "263           02  ...       23319.01          NaN           NaN         NaN   \n",
       "264           02  ...       23437.53          NaN           NaN         NaN   \n",
       "281           02  ...       25683.88          NaN           NaN         NaN   \n",
       "339           02  ...       33496.51          NaN           NaN         NaN   \n",
       "413           09  ...       42697.68          NaN           NaN         NaN   \n",
       "\n",
       "    cardPresent posOnPremises recurringAuthInd expirationDateKeyInMatch  \\\n",
       "263        True           NaN              NaN                    False   \n",
       "264        True           NaN              NaN                    False   \n",
       "281        True           NaN              NaN                    False   \n",
       "339       False           NaN              NaN                    False   \n",
       "413        True           NaN              NaN                    False   \n",
       "\n",
       "    isFraud  time_span  \n",
       "263   False   0.004444  \n",
       "264   False   0.036667  \n",
       "281   False   0.012222  \n",
       "339   False   0.010556  \n",
       "413   False   0.047778  \n",
       "\n",
       "[5 rows x 30 columns]"
      ]
     },
     "execution_count": 99,
     "metadata": {},
     "output_type": "execute_result"
    }
   ],
   "source": [
    "# Select rows which transaction time span is less than 1 hour\n",
    "\n",
    "multi_swipe = multi_purchase[multi_purchase.time_span < 1]\n",
    "multi_swipe.head()"
   ]
  },
  {
   "cell_type": "markdown",
   "metadata": {},
   "source": [
    "##  2. Total number of transactions and total dollar amount estimated for the reversed transactions and the multi-swipe transactions. <a name=\"heading--3-2\"/>"
   ]
  },
  {
   "cell_type": "code",
   "execution_count": 100,
   "metadata": {},
   "outputs": [
    {
     "name": "stdout",
     "output_type": "stream",
     "text": [
      "The total number of transactions for reversed transactions is 17999.\n",
      "The total dollar estimated  for reversed transactions is 2701311.87.\n",
      "The total number of multi-swipe transactions is 7450.\n",
      "The total dollar estimated  for reversed transactions is 1103132.25.\n"
     ]
    }
   ],
   "source": [
    "print(f\"The total number of transactions for reversed transactions is {reversed_trans.shape[0]}.\")\n",
    "print(f\"The total dollar estimated  for reversed transactions is {reversed_trans.transactionAmount.sum()}.\")\n",
    "print(f\"The total number of multi-swipe transactions is {multi_swipe.shape[0]}.\")\n",
    "print(f\"The total dollar estimated  for reversed transactions is {multi_swipe.transactionAmount.sum()}.\")"
   ]
  },
  {
   "cell_type": "markdown",
   "metadata": {},
   "source": [
    "##  3. Anything interesting about either kind of transaction. <a name=\"heading--3-3\"/>"
   ]
  },
  {
   "cell_type": "markdown",
   "metadata": {},
   "source": [
    "### 3.1. Mechant category of different kinds of duplicates <a name=\"heading--3-3-1\"/>\n",
    "\n",
    "I want to know whether the type of merchant will have impact on the likelihood of duplicate transactions. So I will build a table for proportions of reversed transaction and multi-swipe in different types of merchant and see if there're some interesting patterns."
   ]
  },
  {
   "cell_type": "code",
   "execution_count": 101,
   "metadata": {},
   "outputs": [],
   "source": [
    "# Get proportion of different types of merchant\n",
    "\n",
    "all_pro = data.merchantCategoryCode.value_counts(normalize=True).rename_axis('MerchantCategory').to_frame('overall_proportion')\n",
    "rev_pro = reversed_trans.merchantCategoryCode_x.value_counts(normalize=True).rename_axis('MerchantCategory').to_frame('reversed_proportion')\n",
    "mul_pro = multi_swipe.merchantCategoryCode.value_counts(normalize=True).rename_axis('MerchantCategory').to_frame('multi_proportion')"
   ]
  },
  {
   "cell_type": "code",
   "execution_count": 102,
   "metadata": {},
   "outputs": [
    {
     "data": {
      "text/html": [
       "<div>\n",
       "<style scoped>\n",
       "    .dataframe tbody tr th:only-of-type {\n",
       "        vertical-align: middle;\n",
       "    }\n",
       "\n",
       "    .dataframe tbody tr th {\n",
       "        vertical-align: top;\n",
       "    }\n",
       "\n",
       "    .dataframe thead th {\n",
       "        text-align: right;\n",
       "    }\n",
       "</style>\n",
       "<table border=\"1\" class=\"dataframe\">\n",
       "  <thead>\n",
       "    <tr style=\"text-align: right;\">\n",
       "      <th></th>\n",
       "      <th>overall_proportion</th>\n",
       "      <th>reversed_proportion</th>\n",
       "      <th>multi_proportion</th>\n",
       "    </tr>\n",
       "    <tr>\n",
       "      <th>MerchantCategory</th>\n",
       "      <th></th>\n",
       "      <th></th>\n",
       "      <th></th>\n",
       "    </tr>\n",
       "  </thead>\n",
       "  <tbody>\n",
       "    <tr>\n",
       "      <th>online_retail</th>\n",
       "      <td>0.257077</td>\n",
       "      <td>0.275460</td>\n",
       "      <td>0.275705</td>\n",
       "    </tr>\n",
       "    <tr>\n",
       "      <th>fastfood</th>\n",
       "      <td>0.142603</td>\n",
       "      <td>0.155620</td>\n",
       "      <td>0.160000</td>\n",
       "    </tr>\n",
       "    <tr>\n",
       "      <th>entertainment</th>\n",
       "      <td>0.101859</td>\n",
       "      <td>0.108950</td>\n",
       "      <td>0.115302</td>\n",
       "    </tr>\n",
       "    <tr>\n",
       "      <th>food</th>\n",
       "      <td>0.095999</td>\n",
       "      <td>0.104784</td>\n",
       "      <td>0.103221</td>\n",
       "    </tr>\n",
       "    <tr>\n",
       "      <th>online_gifts</th>\n",
       "      <td>0.084233</td>\n",
       "      <td>0.095116</td>\n",
       "      <td>0.089799</td>\n",
       "    </tr>\n",
       "    <tr>\n",
       "      <th>rideshare</th>\n",
       "      <td>0.065028</td>\n",
       "      <td>0.067782</td>\n",
       "      <td>0.068456</td>\n",
       "    </tr>\n",
       "    <tr>\n",
       "      <th>hotels</th>\n",
       "      <td>0.043360</td>\n",
       "      <td>0.049725</td>\n",
       "      <td>0.045235</td>\n",
       "    </tr>\n",
       "    <tr>\n",
       "      <th>fuel</th>\n",
       "      <td>0.030406</td>\n",
       "      <td>NaN</td>\n",
       "      <td>NaN</td>\n",
       "    </tr>\n",
       "    <tr>\n",
       "      <th>subscriptions</th>\n",
       "      <td>0.029123</td>\n",
       "      <td>0.030502</td>\n",
       "      <td>0.031141</td>\n",
       "    </tr>\n",
       "    <tr>\n",
       "      <th>auto</th>\n",
       "      <td>0.027533</td>\n",
       "      <td>0.028224</td>\n",
       "      <td>0.027114</td>\n",
       "    </tr>\n",
       "    <tr>\n",
       "      <th>health</th>\n",
       "      <td>0.024279</td>\n",
       "      <td>0.026279</td>\n",
       "      <td>0.025101</td>\n",
       "    </tr>\n",
       "    <tr>\n",
       "      <th>personal care</th>\n",
       "      <td>0.024116</td>\n",
       "      <td>0.026724</td>\n",
       "      <td>0.027785</td>\n",
       "    </tr>\n",
       "    <tr>\n",
       "      <th>airline</th>\n",
       "      <td>0.019599</td>\n",
       "      <td>0.020779</td>\n",
       "      <td>0.022953</td>\n",
       "    </tr>\n",
       "    <tr>\n",
       "      <th>mobileapps</th>\n",
       "      <td>0.019062</td>\n",
       "      <td>NaN</td>\n",
       "      <td>NaN</td>\n",
       "    </tr>\n",
       "    <tr>\n",
       "      <th>online_subscriptions</th>\n",
       "      <td>0.014074</td>\n",
       "      <td>NaN</td>\n",
       "      <td>NaN</td>\n",
       "    </tr>\n",
       "    <tr>\n",
       "      <th>furniture</th>\n",
       "      <td>0.009451</td>\n",
       "      <td>0.010056</td>\n",
       "      <td>0.008188</td>\n",
       "    </tr>\n",
       "    <tr>\n",
       "      <th>food_delivery</th>\n",
       "      <td>0.007630</td>\n",
       "      <td>NaN</td>\n",
       "      <td>NaN</td>\n",
       "    </tr>\n",
       "    <tr>\n",
       "      <th>gym</th>\n",
       "      <td>0.002809</td>\n",
       "      <td>NaN</td>\n",
       "      <td>NaN</td>\n",
       "    </tr>\n",
       "    <tr>\n",
       "      <th>cable/phone</th>\n",
       "      <td>0.001757</td>\n",
       "      <td>NaN</td>\n",
       "      <td>NaN</td>\n",
       "    </tr>\n",
       "  </tbody>\n",
       "</table>\n",
       "</div>"
      ],
      "text/plain": [
       "                      overall_proportion  reversed_proportion  \\\n",
       "MerchantCategory                                                \n",
       "online_retail                   0.257077             0.275460   \n",
       "fastfood                        0.142603             0.155620   \n",
       "entertainment                   0.101859             0.108950   \n",
       "food                            0.095999             0.104784   \n",
       "online_gifts                    0.084233             0.095116   \n",
       "rideshare                       0.065028             0.067782   \n",
       "hotels                          0.043360             0.049725   \n",
       "fuel                            0.030406                  NaN   \n",
       "subscriptions                   0.029123             0.030502   \n",
       "auto                            0.027533             0.028224   \n",
       "health                          0.024279             0.026279   \n",
       "personal care                   0.024116             0.026724   \n",
       "airline                         0.019599             0.020779   \n",
       "mobileapps                      0.019062                  NaN   \n",
       "online_subscriptions            0.014074                  NaN   \n",
       "furniture                       0.009451             0.010056   \n",
       "food_delivery                   0.007630                  NaN   \n",
       "gym                             0.002809                  NaN   \n",
       "cable/phone                     0.001757                  NaN   \n",
       "\n",
       "                      multi_proportion  \n",
       "MerchantCategory                        \n",
       "online_retail                 0.275705  \n",
       "fastfood                      0.160000  \n",
       "entertainment                 0.115302  \n",
       "food                          0.103221  \n",
       "online_gifts                  0.089799  \n",
       "rideshare                     0.068456  \n",
       "hotels                        0.045235  \n",
       "fuel                               NaN  \n",
       "subscriptions                 0.031141  \n",
       "auto                          0.027114  \n",
       "health                        0.025101  \n",
       "personal care                 0.027785  \n",
       "airline                       0.022953  \n",
       "mobileapps                         NaN  \n",
       "online_subscriptions               NaN  \n",
       "furniture                     0.008188  \n",
       "food_delivery                      NaN  \n",
       "gym                                NaN  \n",
       "cable/phone                        NaN  "
      ]
     },
     "execution_count": 102,
     "metadata": {},
     "output_type": "execute_result"
    }
   ],
   "source": [
    "# Compare proportion of different types of merchant# Get proportion of \n",
    "\n",
    "mer_pro = all_pro.merge(rev_pro, how='left', on=['MerchantCategory']).merge(mul_pro, how='left', on=['MerchantCategory'])\n",
    "mer_pro"
   ]
  },
  {
   "cell_type": "markdown",
   "metadata": {},
   "source": [
    "- From the above dataset we can see that,generally speaking, merchants who account for a higher proportion of overall transactions are also more likely to have reversed transactions and multi-swipe transactions. This also means that most of merchant don't have a much higher or lower possibility to give reversed transactions or multi-swipe transactions.\n",
    "- However, for fuel merchants, they account for more than 3% in the overall transaction data but don't have any records in the  reversed transactions and multi-swipe transactions data. This means that fuel merchants have very lower possibility to give reversed transactions or multi-swipe transactions to their customers."
   ]
  },
  {
   "cell_type": "markdown",
   "metadata": {},
   "source": [
    "### 3.2. Time span between duplicates <a name=\"heading--3-3-2\"/>\n",
    "\n",
    "- I want to know what's the typical time span between reversed transactions and multi-swipe transactions. So I firstly add time span to the reversed transactions data. Then make a plot to visualize their time span and compare them."
   ]
  },
  {
   "cell_type": "code",
   "execution_count": 103,
   "metadata": {},
   "outputs": [],
   "source": [
    "# Add time span of reversed transactions\n",
    "\n",
    "reversed_trans['time_span'] = ((reversed_trans.transactionDateTime_y - \n",
    "                               reversed_trans.transactionDateTime_x) / np.timedelta64(1, 'D')).astype(int)"
   ]
  },
  {
   "cell_type": "code",
   "execution_count": 104,
   "metadata": {},
   "outputs": [
    {
     "data": {
      "image/png": "[encoded data removed]",
      "text/plain": [
       "<Figure size 1152x576 with 2 Axes>"
      ]
     },
     "metadata": {
      "needs_background": "light"
     },
     "output_type": "display_data"
    }
   ],
   "source": [
    "# Make distribution plots to visualize their time span and compare\n",
    "\n",
    "fig, ax = plt.subplots(nrows=1, ncols=2, figsize=(16, 8))\n",
    "sns.distplot(reversed_trans.time_span, hist=True, kde=True, ax=ax[0])\n",
    "ax[0].set_xlabel('Time span (days)')\n",
    "ax[0].set_title('Histogram of reversed transactions time span', fontsize=10)\n",
    "\n",
    "# A KDE plot of transactions without outliers\n",
    "sns.distplot(multi_swipe.time_span, hist=True, kde=True, ax=ax[1])\n",
    "ax[1].set_xlabel('Time span (hours)')\n",
    "ax[1].set_title('Histogram of multi-swipes transactions time span', fontsize=10)\n",
    "plt.tight_layout()\n",
    "plt.show()"
   ]
  },
  {
   "cell_type": "markdown",
   "metadata": {},
   "source": [
    "- From the above graphs, we can find that there're often days between multiple reversed transactions. And almost all of them happen within 50 days. \n",
    "- While multi-swipe transactions often happen within few seconds. Almost all of them happen within 3 minutes."
   ]
  },
  {
   "cell_type": "markdown",
   "metadata": {},
   "source": [
    "# Model Building <a name=\"heading--4\"/>"
   ]
  },
  {
   "cell_type": "markdown",
   "metadata": {},
   "source": [
    "##  1. Build a predictive model to determine whether a given transaction will be fraudulent or not.  <a name=\"heading--4-1\"/>"
   ]
  },
  {
   "cell_type": "code",
   "execution_count": 105,
   "metadata": {},
   "outputs": [],
   "source": [
    "# Make a copy of the original dataset for model building\n",
    "df = data.copy()"
   ]
  },
  {
   "cell_type": "markdown",
   "metadata": {},
   "source": [
    "### 1.1. Missing value <a name=\"heading--4-1-1\"/>"
   ]
  },
  {
   "cell_type": "code",
   "execution_count": 106,
   "metadata": {},
   "outputs": [],
   "source": [
    "# Drop columns with no records\n",
    "df = df.drop(['echoBuffer', 'merchantCity', 'merchantState', 'merchantZip', 'posOnPremises', 'recurringAuthInd'\n",
    "], axis=1)"
   ]
  },
  {
   "cell_type": "code",
   "execution_count": 107,
   "metadata": {},
   "outputs": [
    {
     "name": "stdout",
     "output_type": "stream",
     "text": [
      "acqCountry             0.005801\n",
      "merchantCountryCode    0.000921\n",
      "posEntryMode           0.005155\n",
      "posConditionCode       0.000520\n",
      "transactionType        0.000888\n",
      "dtype: float64\n"
     ]
    }
   ],
   "source": [
    "# Inspect missing values columns\n",
    "\n",
    "missingValueColumns = df.columns[df.isnull().any()].tolist()\n",
    "percent_missing = df[missingValueColumns].isnull().sum() / len(df)\n",
    "print(percent_missing)"
   ]
  },
  {
   "cell_type": "markdown",
   "metadata": {},
   "source": [
    "From the missing value table, we can see that the missing percentage in all columns are low. So we don't need to drop these columns but we can find some proper ways to impute missing values."
   ]
  },
  {
   "cell_type": "code",
   "execution_count": 108,
   "metadata": {},
   "outputs": [
    {
     "name": "stdout",
     "output_type": "stream",
     "text": [
      "Frequency of values in column acqCountry: \n",
      " US     774709\n",
      "MEX      3130\n",
      "CAN      2424\n",
      "PR       1538\n",
      "Name: acqCountry, dtype: int64\n",
      "Frequency of values in column merchantCountryCode: \n",
      " US     778511\n",
      "MEX      3143\n",
      "CAN      2426\n",
      "PR       1559\n",
      "Name: merchantCountryCode, dtype: int64\n",
      "Frequency of values in column posEntryMode: \n",
      " 05    315035\n",
      "09    236481\n",
      "02    195934\n",
      "90     19576\n",
      "80     15283\n",
      "Name: posEntryMode, dtype: int64\n",
      "Frequency of values in column posConditionCode: \n",
      " 01    628787\n",
      "08    149634\n",
      "99      7533\n",
      "Name: posConditionCode, dtype: int64\n",
      "Frequency of values in column transactionType: \n",
      " PURCHASE                745193\n",
      "REVERSAL                 20303\n",
      "ADDRESS_VERIFICATION     20169\n",
      "Name: transactionType, dtype: int64\n"
     ]
    }
   ],
   "source": [
    "# Inspect missing values columns\n",
    "\n",
    "print(\"Frequency of values in column acqCountry: \\n\",df.acqCountry.value_counts())\n",
    "print(\"Frequency of values in column merchantCountryCode: \\n\",df.merchantCountryCode.value_counts())\n",
    "print(\"Frequency of values in column posEntryMode: \\n\",df.posEntryMode.value_counts())\n",
    "print(\"Frequency of values in column posConditionCode: \\n\",df.posConditionCode.value_counts())\n",
    "print(\"Frequency of values in column transactionType: \\n\",df.transactionType.value_counts())"
   ]
  },
  {
   "cell_type": "code",
   "execution_count": 109,
   "metadata": {},
   "outputs": [],
   "source": [
    "# We can see that all those 5 columns contain categorical variables and are skewed to one of a category.\n",
    "# So I will use mode to impute these columns.\n",
    "\n",
    "df['acqCountry'] = df['acqCountry'].fillna(df['acqCountry'].mode()[0])\n",
    "df['merchantCountryCode'] = df['merchantCountryCode'].fillna(df['merchantCountryCode'].mode()[0])\n",
    "df['posEntryMode'] = df['posEntryMode'].fillna(df['posEntryMode'].mode()[0])\n",
    "df['posConditionCode'] = df['posConditionCode'].fillna(df['posConditionCode'].mode()[0])\n",
    "df['transactionType'] = df['transactionType'].fillna(df['transactionType'].mode()[0])"
   ]
  },
  {
   "cell_type": "markdown",
   "metadata": {},
   "source": [
    "### 1.2. Feature engineering <a name=\"heading--4-1-2\"/>"
   ]
  },
  {
   "cell_type": "markdown",
   "metadata": {},
   "source": [
    "The original dataset contains a number of features but some of them don't tell much valuable information. So I will convert to a new feature, which I believe will be more related to fraud detection."
   ]
  },
  {
   "cell_type": "markdown",
   "metadata": {},
   "source": [
    "### 1.2.1. rightCVV <a name=\"heading--4-1-2-1\"/>\n",
    "The original dataset has 2 columns, \"cardCVV\" and \"enteredCVV\". I will convert these 2 columns to be a dummy feature: \"rightCVV\". If cardCVV = enteredCVV, rightCVV = 1, otherwise, rightCVV = 0. The reason I do this is that typically, the card's verification value adds extra security to transaction. So if the entered CVV is incorrect, it's highly possible that this transaction would be fraud."
   ]
  },
  {
   "cell_type": "code",
   "execution_count": 110,
   "metadata": {},
   "outputs": [],
   "source": [
    "# Convert cardCVV and enteredCVV to rightCVV\n",
    "\n",
    "df['rightCVV'] = (df.cardCVV == df.enteredCVV).astype(int)\n",
    "df = df.drop(['cardCVV', 'enteredCVV'], axis=1)"
   ]
  },
  {
   "cell_type": "markdown",
   "metadata": {},
   "source": [
    "### 1.2.2. sameCountry <a name=\"heading--4-1-2-2\"/>\n",
    "The original dataset has 2 columns, \"acqCountry\" and \"merchantCountryCode\". I will convert these 2 columns to be a dummy feature: \"sameCountry\". If acqCountry = merchantCountryCode, sameCountry = 1, otherwise, sameCountry = 0. The reason I do this is that most of the time, people will use their cards in the country they acquired cards. If they use their cards in some other countries, it's possible that this transaction would be fraud."
   ]
  },
  {
   "cell_type": "code",
   "execution_count": 111,
   "metadata": {},
   "outputs": [],
   "source": [
    "# Convert acqCountry and merchantCountryCode to sameCountry\n",
    "\n",
    "df['sameCountry'] = (df.acqCountry == df.merchantCountryCode).astype(int)\n",
    "df = df.drop(['acqCountry', 'merchantCountryCode'], axis=1)"
   ]
  },
  {
   "cell_type": "markdown",
   "metadata": {},
   "source": [
    "### 1.2.3. Whether first time purchasing merchant <a name=\"heading--4-1-2-3\"/>\n",
    "The original dataset has a feature \"merchantName\". Actually just the name can't tell us something valuable. So I will convert this column to be a dummy feature: \"firPurchase\". If it's the customer's first time purchasing in this merchant, firPurchase = 1, otherwise, firPurchase = 0. The reason I do this is that most of the time, fraud transactions happen in a merchant where the customer hasn't used before."
   ]
  },
  {
   "cell_type": "code",
   "execution_count": 112,
   "metadata": {},
   "outputs": [],
   "source": [
    "# Convert merchantName to firPurchase\n",
    "\n",
    "# Decide whether it's the first record of a certain customer in a certain customer\n",
    "df = df.sort_values(['customerId', 'merchantName', 'transactionDateTime'])\n",
    "df['firPurchase'] = df.groupby(['customerId', 'merchantName']).cumcount()\n",
    "df['firPurchase'][df['firPurchase'] == 0] = 1\n",
    "df['firPurchase'][df['firPurchase'] > 0] = 0"
   ]
  },
  {
   "cell_type": "markdown",
   "metadata": {},
   "source": [
    "### 1.2.4. Datetime data <a name=\"heading--4-1-2-4\"/>\n",
    "The original dataset has multiple date transactionDateTime, currentExpDate, accountOpenDate and dateOfLastAddressChange. I want to convert these datetime features into time interval features, which are more informative. \n",
    "- For currentExpDate, I will change it to expTime, which indicates the time between the transaction date and the expiration date. \n",
    "- For accountOpenDate, I will change it to openTime, which indicates the time between the account open date and the transaction date.\n",
    "- For dateOfLastAddressChange, I will change it to changeAddTime, which indicates the time between the last of address change date and the transaction date."
   ]
  },
  {
   "cell_type": "code",
   "execution_count": 113,
   "metadata": {},
   "outputs": [],
   "source": [
    "# Convert datetime to time span (days)\n",
    "df['expTime'] = ((df.currentExpDate - df.transactionDateTime) / np.timedelta64(1, 'D'))\n",
    "df['openTime'] = ((df.transactionDateTime - df.accountOpenDate) / np.timedelta64(1, 'D'))\n",
    "df['changeAddTime'] = ((df.transactionDateTime - df.dateOfLastAddressChange) / np.timedelta64(1, 'D'))"
   ]
  },
  {
   "cell_type": "markdown",
   "metadata": {},
   "source": [
    "### 1.2.5. Duplicate transactions (reversed transaction and multi-swipes)<a name=\"heading--4-1-2-5\"/>\n",
    "I will add reversed transaction and multi-swipes as attributes to the dataset because that pratically speaking, duplicate transactions may have higher possibilities to be fraud. So I will add dummy variables to identify whether this transaction is reversed transaction and whetehr this transaction is multi-swipes transaction."
   ]
  },
  {
   "cell_type": "code",
   "execution_count": 114,
   "metadata": {
    "scrolled": true
   },
   "outputs": [],
   "source": [
    "# Subset reversed transactions in the dataset\n",
    "\n",
    "lst_re = ['accountNumber', 'transactionAmount', 'merchantName', 'transactionDateTime_y', 'transactionType_y']\n",
    "lst_or = ['accountNumber', 'transactionAmount', 'merchantName', 'transactionDateTime', 'transactionType']\n",
    "\n",
    "df.loc[df.set_index(lst_or).index.isin(reversed_trans.set_index(lst_re).index) == True, 'reversed'] = 1"
   ]
  },
  {
   "cell_type": "code",
   "execution_count": 115,
   "metadata": {},
   "outputs": [],
   "source": [
    "# if not reversed transaction, reversed = 0\n",
    "\n",
    "df.reversed = df.reversed.fillna(0)"
   ]
  },
  {
   "cell_type": "code",
   "execution_count": 116,
   "metadata": {},
   "outputs": [
    {
     "data": {
      "text/plain": [
       "0.0    768604\n",
       "1.0     17759\n",
       "Name: reversed, dtype: int64"
      ]
     },
     "execution_count": 116,
     "metadata": {},
     "output_type": "execute_result"
    }
   ],
   "source": [
    "# Check the number of reversed transactions and other transactions\n",
    "\n",
    "df.reversed.value_counts()"
   ]
  },
  {
   "cell_type": "code",
   "execution_count": 117,
   "metadata": {},
   "outputs": [],
   "source": [
    "# Subset multi-swipe transactions in the dataset\n",
    "\n",
    "lst_mul = ['accountNumber', 'transactionAmount', 'merchantName', 'transactionDateTime', 'transactionType']\n",
    "lst_or = ['accountNumber', 'transactionAmount', 'merchantName', 'transactionDateTime', 'transactionType']\n",
    "\n",
    "df.loc[df.set_index(lst_or).index.isin(multi_swipe.set_index(lst_mul).index) == True, 'multi'] = 1"
   ]
  },
  {
   "cell_type": "code",
   "execution_count": 118,
   "metadata": {},
   "outputs": [],
   "source": [
    "# if not multi-swipe transaction, multi = 0\n",
    "\n",
    "df.multi = df.multi.fillna(0)"
   ]
  },
  {
   "cell_type": "code",
   "execution_count": 119,
   "metadata": {},
   "outputs": [
    {
     "data": {
      "text/plain": [
       "0.0    778913\n",
       "1.0      7450\n",
       "Name: multi, dtype: int64"
      ]
     },
     "execution_count": 119,
     "metadata": {},
     "output_type": "execute_result"
    }
   ],
   "source": [
    "# Check the number of multi-swipe transactions\n",
    "\n",
    "df.multi.value_counts()"
   ]
  },
  {
   "cell_type": "markdown",
   "metadata": {},
   "source": [
    "### 1.3. Feature selection <a name=\"heading--4-1-3\"/>"
   ]
  },
  {
   "cell_type": "markdown",
   "metadata": {},
   "source": [
    "- I will firstly drop some columns which will not be useful for model building. \n",
    "     1. accountNumber, customerId and cardLast4Digits, which are just identifiers for each card\n",
    "     2. As I explained before,  I will drop merchantName and datetime variables including: transactionDateTime, currentExpDate, accountOpenDate and dateOfLastAddressChange\n",
    "     3. availableMoney, which is highly related to creditLimit and currentBalance. availableMoney = creditLimit - currentBalance\n",
    "     \n",
    "- Check correlation matrix to see if remaining features are correlated"
   ]
  },
  {
   "cell_type": "code",
   "execution_count": 120,
   "metadata": {},
   "outputs": [],
   "source": [
    "df = df.drop(['accountNumber', 'customerId', 'cardLast4Digits', 'merchantName', 'transactionDateTime',\n",
    "             'currentExpDate', 'accountOpenDate', 'dateOfLastAddressChange', 'availableMoney'], axis=1)"
   ]
  },
  {
   "cell_type": "code",
   "execution_count": 121,
   "metadata": {
    "scrolled": true
   },
   "outputs": [
    {
     "data": {
      "text/html": [
       "<div>\n",
       "<style scoped>\n",
       "    .dataframe tbody tr th:only-of-type {\n",
       "        vertical-align: middle;\n",
       "    }\n",
       "\n",
       "    .dataframe tbody tr th {\n",
       "        vertical-align: top;\n",
       "    }\n",
       "\n",
       "    .dataframe thead th {\n",
       "        text-align: right;\n",
       "    }\n",
       "</style>\n",
       "<table border=\"1\" class=\"dataframe\">\n",
       "  <thead>\n",
       "    <tr style=\"text-align: right;\">\n",
       "      <th></th>\n",
       "      <th>creditLimit</th>\n",
       "      <th>transactionAmount</th>\n",
       "      <th>currentBalance</th>\n",
       "      <th>cardPresent</th>\n",
       "      <th>expirationDateKeyInMatch</th>\n",
       "      <th>isFraud</th>\n",
       "      <th>rightCVV</th>\n",
       "      <th>sameCountry</th>\n",
       "      <th>firPurchase</th>\n",
       "      <th>expTime</th>\n",
       "      <th>openTime</th>\n",
       "      <th>changeAddTime</th>\n",
       "      <th>reversed</th>\n",
       "      <th>multi</th>\n",
       "    </tr>\n",
       "  </thead>\n",
       "  <tbody>\n",
       "    <tr>\n",
       "      <th>creditLimit</th>\n",
       "      <td>NaN</td>\n",
       "      <td>0.005581</td>\n",
       "      <td>0.653652</td>\n",
       "      <td>0.003929</td>\n",
       "      <td>0.002391</td>\n",
       "      <td>0.003108</td>\n",
       "      <td>0.001343</td>\n",
       "      <td>0.000435</td>\n",
       "      <td>NaN</td>\n",
       "      <td>0.001460</td>\n",
       "      <td>0.061550</td>\n",
       "      <td>0.062469</td>\n",
       "      <td>0.001585</td>\n",
       "      <td>0.001879</td>\n",
       "    </tr>\n",
       "    <tr>\n",
       "      <th>transactionAmount</th>\n",
       "      <td>NaN</td>\n",
       "      <td>NaN</td>\n",
       "      <td>0.023905</td>\n",
       "      <td>0.037361</td>\n",
       "      <td>0.001751</td>\n",
       "      <td>0.075651</td>\n",
       "      <td>0.000701</td>\n",
       "      <td>0.002096</td>\n",
       "      <td>NaN</td>\n",
       "      <td>0.002073</td>\n",
       "      <td>0.007879</td>\n",
       "      <td>0.028430</td>\n",
       "      <td>0.013546</td>\n",
       "      <td>0.007339</td>\n",
       "    </tr>\n",
       "    <tr>\n",
       "      <th>currentBalance</th>\n",
       "      <td>NaN</td>\n",
       "      <td>NaN</td>\n",
       "      <td>NaN</td>\n",
       "      <td>0.010529</td>\n",
       "      <td>0.001285</td>\n",
       "      <td>0.007715</td>\n",
       "      <td>0.003221</td>\n",
       "      <td>0.001113</td>\n",
       "      <td>NaN</td>\n",
       "      <td>0.004031</td>\n",
       "      <td>0.081993</td>\n",
       "      <td>0.169767</td>\n",
       "      <td>0.007321</td>\n",
       "      <td>0.005135</td>\n",
       "    </tr>\n",
       "    <tr>\n",
       "      <th>cardPresent</th>\n",
       "      <td>NaN</td>\n",
       "      <td>NaN</td>\n",
       "      <td>NaN</td>\n",
       "      <td>NaN</td>\n",
       "      <td>0.040393</td>\n",
       "      <td>0.043418</td>\n",
       "      <td>0.002988</td>\n",
       "      <td>0.000816</td>\n",
       "      <td>NaN</td>\n",
       "      <td>0.000097</td>\n",
       "      <td>0.020536</td>\n",
       "      <td>0.013711</td>\n",
       "      <td>0.005678</td>\n",
       "      <td>0.005805</td>\n",
       "    </tr>\n",
       "    <tr>\n",
       "      <th>expirationDateKeyInMatch</th>\n",
       "      <td>NaN</td>\n",
       "      <td>NaN</td>\n",
       "      <td>NaN</td>\n",
       "      <td>NaN</td>\n",
       "      <td>NaN</td>\n",
       "      <td>0.000972</td>\n",
       "      <td>0.000113</td>\n",
       "      <td>0.000419</td>\n",
       "      <td>NaN</td>\n",
       "      <td>0.000886</td>\n",
       "      <td>0.001220</td>\n",
       "      <td>0.001014</td>\n",
       "      <td>0.002953</td>\n",
       "      <td>0.000403</td>\n",
       "    </tr>\n",
       "    <tr>\n",
       "      <th>isFraud</th>\n",
       "      <td>NaN</td>\n",
       "      <td>NaN</td>\n",
       "      <td>NaN</td>\n",
       "      <td>NaN</td>\n",
       "      <td>NaN</td>\n",
       "      <td>NaN</td>\n",
       "      <td>0.010006</td>\n",
       "      <td>0.000570</td>\n",
       "      <td>NaN</td>\n",
       "      <td>0.001772</td>\n",
       "      <td>0.005899</td>\n",
       "      <td>0.005933</td>\n",
       "      <td>0.001550</td>\n",
       "      <td>0.001196</td>\n",
       "    </tr>\n",
       "    <tr>\n",
       "      <th>rightCVV</th>\n",
       "      <td>NaN</td>\n",
       "      <td>NaN</td>\n",
       "      <td>NaN</td>\n",
       "      <td>NaN</td>\n",
       "      <td>NaN</td>\n",
       "      <td>NaN</td>\n",
       "      <td>NaN</td>\n",
       "      <td>0.001091</td>\n",
       "      <td>NaN</td>\n",
       "      <td>0.001445</td>\n",
       "      <td>0.000047</td>\n",
       "      <td>0.001246</td>\n",
       "      <td>0.000767</td>\n",
       "      <td>0.001192</td>\n",
       "    </tr>\n",
       "    <tr>\n",
       "      <th>sameCountry</th>\n",
       "      <td>NaN</td>\n",
       "      <td>NaN</td>\n",
       "      <td>NaN</td>\n",
       "      <td>NaN</td>\n",
       "      <td>NaN</td>\n",
       "      <td>NaN</td>\n",
       "      <td>NaN</td>\n",
       "      <td>NaN</td>\n",
       "      <td>NaN</td>\n",
       "      <td>0.001238</td>\n",
       "      <td>0.000514</td>\n",
       "      <td>0.000833</td>\n",
       "      <td>0.001229</td>\n",
       "      <td>0.002300</td>\n",
       "    </tr>\n",
       "    <tr>\n",
       "      <th>firPurchase</th>\n",
       "      <td>NaN</td>\n",
       "      <td>NaN</td>\n",
       "      <td>NaN</td>\n",
       "      <td>NaN</td>\n",
       "      <td>NaN</td>\n",
       "      <td>NaN</td>\n",
       "      <td>NaN</td>\n",
       "      <td>NaN</td>\n",
       "      <td>NaN</td>\n",
       "      <td>NaN</td>\n",
       "      <td>NaN</td>\n",
       "      <td>NaN</td>\n",
       "      <td>NaN</td>\n",
       "      <td>NaN</td>\n",
       "    </tr>\n",
       "    <tr>\n",
       "      <th>expTime</th>\n",
       "      <td>NaN</td>\n",
       "      <td>NaN</td>\n",
       "      <td>NaN</td>\n",
       "      <td>NaN</td>\n",
       "      <td>NaN</td>\n",
       "      <td>NaN</td>\n",
       "      <td>NaN</td>\n",
       "      <td>NaN</td>\n",
       "      <td>NaN</td>\n",
       "      <td>NaN</td>\n",
       "      <td>0.013492</td>\n",
       "      <td>0.003807</td>\n",
       "      <td>0.000334</td>\n",
       "      <td>0.001429</td>\n",
       "    </tr>\n",
       "    <tr>\n",
       "      <th>openTime</th>\n",
       "      <td>NaN</td>\n",
       "      <td>NaN</td>\n",
       "      <td>NaN</td>\n",
       "      <td>NaN</td>\n",
       "      <td>NaN</td>\n",
       "      <td>NaN</td>\n",
       "      <td>NaN</td>\n",
       "      <td>NaN</td>\n",
       "      <td>NaN</td>\n",
       "      <td>NaN</td>\n",
       "      <td>NaN</td>\n",
       "      <td>0.585585</td>\n",
       "      <td>0.000109</td>\n",
       "      <td>0.002643</td>\n",
       "    </tr>\n",
       "    <tr>\n",
       "      <th>changeAddTime</th>\n",
       "      <td>NaN</td>\n",
       "      <td>NaN</td>\n",
       "      <td>NaN</td>\n",
       "      <td>NaN</td>\n",
       "      <td>NaN</td>\n",
       "      <td>NaN</td>\n",
       "      <td>NaN</td>\n",
       "      <td>NaN</td>\n",
       "      <td>NaN</td>\n",
       "      <td>NaN</td>\n",
       "      <td>NaN</td>\n",
       "      <td>NaN</td>\n",
       "      <td>0.007471</td>\n",
       "      <td>0.004906</td>\n",
       "    </tr>\n",
       "    <tr>\n",
       "      <th>reversed</th>\n",
       "      <td>NaN</td>\n",
       "      <td>NaN</td>\n",
       "      <td>NaN</td>\n",
       "      <td>NaN</td>\n",
       "      <td>NaN</td>\n",
       "      <td>NaN</td>\n",
       "      <td>NaN</td>\n",
       "      <td>NaN</td>\n",
       "      <td>NaN</td>\n",
       "      <td>NaN</td>\n",
       "      <td>NaN</td>\n",
       "      <td>NaN</td>\n",
       "      <td>NaN</td>\n",
       "      <td>0.014866</td>\n",
       "    </tr>\n",
       "    <tr>\n",
       "      <th>multi</th>\n",
       "      <td>NaN</td>\n",
       "      <td>NaN</td>\n",
       "      <td>NaN</td>\n",
       "      <td>NaN</td>\n",
       "      <td>NaN</td>\n",
       "      <td>NaN</td>\n",
       "      <td>NaN</td>\n",
       "      <td>NaN</td>\n",
       "      <td>NaN</td>\n",
       "      <td>NaN</td>\n",
       "      <td>NaN</td>\n",
       "      <td>NaN</td>\n",
       "      <td>NaN</td>\n",
       "      <td>NaN</td>\n",
       "    </tr>\n",
       "  </tbody>\n",
       "</table>\n",
       "</div>"
      ],
      "text/plain": [
       "                          creditLimit  transactionAmount  currentBalance  \\\n",
       "creditLimit                       NaN           0.005581        0.653652   \n",
       "transactionAmount                 NaN                NaN        0.023905   \n",
       "currentBalance                    NaN                NaN             NaN   \n",
       "cardPresent                       NaN                NaN             NaN   \n",
       "expirationDateKeyInMatch          NaN                NaN             NaN   \n",
       "isFraud                           NaN                NaN             NaN   \n",
       "rightCVV                          NaN                NaN             NaN   \n",
       "sameCountry                       NaN                NaN             NaN   \n",
       "firPurchase                       NaN                NaN             NaN   \n",
       "expTime                           NaN                NaN             NaN   \n",
       "openTime                          NaN                NaN             NaN   \n",
       "changeAddTime                     NaN                NaN             NaN   \n",
       "reversed                          NaN                NaN             NaN   \n",
       "multi                             NaN                NaN             NaN   \n",
       "\n",
       "                          cardPresent  expirationDateKeyInMatch   isFraud  \\\n",
       "creditLimit                  0.003929                  0.002391  0.003108   \n",
       "transactionAmount            0.037361                  0.001751  0.075651   \n",
       "currentBalance               0.010529                  0.001285  0.007715   \n",
       "cardPresent                       NaN                  0.040393  0.043418   \n",
       "expirationDateKeyInMatch          NaN                       NaN  0.000972   \n",
       "isFraud                           NaN                       NaN       NaN   \n",
       "rightCVV                          NaN                       NaN       NaN   \n",
       "sameCountry                       NaN                       NaN       NaN   \n",
       "firPurchase                       NaN                       NaN       NaN   \n",
       "expTime                           NaN                       NaN       NaN   \n",
       "openTime                          NaN                       NaN       NaN   \n",
       "changeAddTime                     NaN                       NaN       NaN   \n",
       "reversed                          NaN                       NaN       NaN   \n",
       "multi                             NaN                       NaN       NaN   \n",
       "\n",
       "                          rightCVV  sameCountry  firPurchase   expTime  \\\n",
       "creditLimit               0.001343     0.000435          NaN  0.001460   \n",
       "transactionAmount         0.000701     0.002096          NaN  0.002073   \n",
       "currentBalance            0.003221     0.001113          NaN  0.004031   \n",
       "cardPresent               0.002988     0.000816          NaN  0.000097   \n",
       "expirationDateKeyInMatch  0.000113     0.000419          NaN  0.000886   \n",
       "isFraud                   0.010006     0.000570          NaN  0.001772   \n",
       "rightCVV                       NaN     0.001091          NaN  0.001445   \n",
       "sameCountry                    NaN          NaN          NaN  0.001238   \n",
       "firPurchase                    NaN          NaN          NaN       NaN   \n",
       "expTime                        NaN          NaN          NaN       NaN   \n",
       "openTime                       NaN          NaN          NaN       NaN   \n",
       "changeAddTime                  NaN          NaN          NaN       NaN   \n",
       "reversed                       NaN          NaN          NaN       NaN   \n",
       "multi                          NaN          NaN          NaN       NaN   \n",
       "\n",
       "                          openTime  changeAddTime  reversed     multi  \n",
       "creditLimit               0.061550       0.062469  0.001585  0.001879  \n",
       "transactionAmount         0.007879       0.028430  0.013546  0.007339  \n",
       "currentBalance            0.081993       0.169767  0.007321  0.005135  \n",
       "cardPresent               0.020536       0.013711  0.005678  0.005805  \n",
       "expirationDateKeyInMatch  0.001220       0.001014  0.002953  0.000403  \n",
       "isFraud                   0.005899       0.005933  0.001550  0.001196  \n",
       "rightCVV                  0.000047       0.001246  0.000767  0.001192  \n",
       "sameCountry               0.000514       0.000833  0.001229  0.002300  \n",
       "firPurchase                    NaN            NaN       NaN       NaN  \n",
       "expTime                   0.013492       0.003807  0.000334  0.001429  \n",
       "openTime                       NaN       0.585585  0.000109  0.002643  \n",
       "changeAddTime                  NaN            NaN  0.007471  0.004906  \n",
       "reversed                       NaN            NaN       NaN  0.014866  \n",
       "multi                          NaN            NaN       NaN       NaN  "
      ]
     },
     "execution_count": 121,
     "metadata": {},
     "output_type": "execute_result"
    }
   ],
   "source": [
    "# Create correlation matrix and select upper triangle of correlation matrix\n",
    "\n",
    "corr_matrix = df.corr().abs()\n",
    "upper = corr_matrix.where(np.triu(np.ones(corr_matrix.shape), k=1).astype(np.bool))\n",
    "upper"
   ]
  },
  {
   "cell_type": "markdown",
   "metadata": {},
   "source": [
    "- We can see that all their correlation is less than 0.7, so I will keep these features right now."
   ]
  },
  {
   "cell_type": "markdown",
   "metadata": {},
   "source": [
    "### 1.4. Preprocess <a name=\"heading--4-1-4\"/>"
   ]
  },
  {
   "cell_type": "code",
   "execution_count": 122,
   "metadata": {},
   "outputs": [],
   "source": [
    "# Convert categorical features into dummy variables\n",
    "\n",
    "cat = df.select_dtypes(include=['object']).columns.to_list()\n",
    "df = pd.get_dummies(df, cat, drop_first=True)"
   ]
  },
  {
   "cell_type": "code",
   "execution_count": 123,
   "metadata": {},
   "outputs": [],
   "source": [
    "# Convert boolean features into int variables\n",
    "\n",
    "boo = df.select_dtypes(include=['bool']).columns.to_list()\n",
    "for column in boo:\n",
    "    df[column] = df[column].astype(int)\n",
    "df.reversed = df.reversed.astype(int)\n",
    "df.multi = df.multi.astype(int)"
   ]
  },
  {
   "cell_type": "markdown",
   "metadata": {},
   "source": [
    "### 1.5. SMOTE <a name=\"heading--4-1-5\"/>\n",
    "- As we can see in our data analysis part, our target variabel isFraud is highly imbalanced, where there're 773946 negative class but only 12417 positive class. So I decide to use SMOTE to over-sample the dataset.\n",
    "- SMOTE generates the virtual training records by randomly selecting one or more of the k-nearest neighbors for each example in the minority class. After the oversampling process, the data is reconstructed"
   ]
  },
  {
   "cell_type": "code",
   "execution_count": 124,
   "metadata": {},
   "outputs": [
    {
     "name": "stdout",
     "output_type": "stream",
     "text": [
      "Original data distribution: \n",
      "0    773946\n",
      "1     12417\n",
      "Name: isFraud, dtype: int64\n",
      "SMOTE data distribution: \n",
      "1    773946\n",
      "0    773946\n",
      "Name: isFraud, dtype: int64\n"
     ]
    }
   ],
   "source": [
    "# Using SMOTE to oversample the dataset\n",
    "X = df.drop(['isFraud'], axis = 1)\n",
    "y = df[['isFraud']]\n",
    "\n",
    "sm = SMOTE(random_state=4)\n",
    "X_smote, y_smote = SMOTE().fit_sample(X, y)\n",
    "\n",
    "print(\"Original data distribution: \")\n",
    "print(y.isFraud.value_counts())\n",
    "print(\"SMOTE data distribution: \")\n",
    "print(y_smote.isFraud.value_counts())"
   ]
  },
  {
   "cell_type": "markdown",
   "metadata": {},
   "source": [
    "### 1.6. Model building <a name=\"heading--4-1-6\"/>\n",
    "- In the model building part, I use RandomSearchCV and K-Folds CV to optimize my model. "
   ]
  },
  {
   "cell_type": "markdown",
   "metadata": {},
   "source": [
    "#### 1.6.1. Decision Tree model <a name=\"heading--4-1-6-1\"/>\n",
    "- The decision true are generally in form of if-then-else statements. The deeper the tree, the more complex the rules and fitter the model. \n",
    "\n",
    "- I will try decision tree model first because it's a very interpretable model and it's very transparent. If we are going to show the workflow of our machine learning model to our non-technical clients, decision tree may be a good choice. We can easily visualize our decision tree model."
   ]
  },
  {
   "cell_type": "code",
   "execution_count": 125,
   "metadata": {},
   "outputs": [],
   "source": [
    "def DT_pred(X, y):\n",
    "    \n",
    "    # Build models with hyperparameters sets\n",
    "    RSC = RandomizedSearchCV(\n",
    "        estimator=DecisionTreeClassifier(),\n",
    "        param_distributions={\n",
    "            'criterion': ['gini', 'entropy'],\n",
    "            'max_depth': range(1, 100, 10),\n",
    "            'max_features': ['auto', 'sqrt', 'log2']}, \n",
    "        cv=3, scoring='roc_auc', n_jobs=-1, verbose = True)\n",
    "    \n",
    "    # Fit RandomizedSearchCV to find best hyperparameters\n",
    "    search_result = RSC.fit(X, y)\n",
    "    print(\"Best using: \", search_result.best_params_, \"Score: \", search_result.best_score_)\n",
    "\n",
    "    # Build models with optimized hyperparameters\n",
    "    model_DT = DecisionTreeClassifier(\n",
    "        criterion=search_result.best_params_[\"criterion\"],\n",
    "        max_depth=search_result.best_params_[\"max_depth\"],\n",
    "        max_features=search_result.best_params_[\"max_features\"])\n",
    "\n",
    "    # Split dataset into 3 consecutive folds\n",
    "    kf = KFold(n_splits=3, shuffle=True, random_state=None)\n",
    "    \n",
    "    i = 1\n",
    "    for train, test in kf.split(X):  \n",
    "        X_train = X.iloc[train,:]\n",
    "        y_train = y.iloc[train,:]\n",
    "        X_test = X.iloc[test]\n",
    "        y_test = y.iloc[test]\n",
    "        model_DT.fit(X_train, y_train)\n",
    "        train_pred = model_DT.predict(X_train)\n",
    "        y_pred = model_DT.predict(X_test)\n",
    "        \n",
    "        train_accuracy = accuracy_score(y_train, train_pred)\n",
    "        train_precision = precision_score(y_train, train_pred)\n",
    "        train_recall = recall_score(y_train, train_pred)\n",
    "        train_auc = roc_auc_score(y_train, train_pred)\n",
    "        \n",
    "        test_accuracy = accuracy_score(y_test, y_pred)\n",
    "        test_precision = precision_score(y_test, y_pred)\n",
    "        test_recall = recall_score(y_test, y_pred)\n",
    "        test_auc = roc_auc_score(y_test, y_pred)        \n",
    "        \n",
    "        print('Fold '+ str(i), ':  Training accuracy: ', train_accuracy, 'Testing accuracy: ', test_accuracy)\n",
    "        print('Fold '+ str(i), ':  Training precision: ', train_precision, 'Testing precision: ', test_precision)\n",
    "        print('Fold '+ str(i), ':  Training recall: ', train_recall, 'Testing accuracy: ', test_recall)\n",
    "        print('Fold '+ str(i), ':  Training auc: ', train_auc, 'Testing auc: ', test_auc)\n",
    "        \n",
    "        i += 1\n",
    "        \n",
    "    return model_DT"
   ]
  },
  {
   "cell_type": "code",
   "execution_count": 126,
   "metadata": {},
   "outputs": [
    {
     "name": "stdout",
     "output_type": "stream",
     "text": [
      "Fitting 3 folds for each of 10 candidates, totalling 30 fits\n"
     ]
    },
    {
     "name": "stderr",
     "output_type": "stream",
     "text": [
      "[Parallel(n_jobs=-1)]: Using backend LokyBackend with 8 concurrent workers.\n",
      "[Parallel(n_jobs=-1)]: Done  30 out of  30 | elapsed:   28.3s finished\n"
     ]
    },
    {
     "name": "stdout",
     "output_type": "stream",
     "text": [
      "Best using:  {'max_features': 'log2', 'max_depth': 31, 'criterion': 'gini'} Score:  0.940317706475895\n",
      "Fold 1 :  Training accuracy:  0.9502290857501686 Testing accuracy:  0.9308866510066593\n",
      "Fold 1 :  Training precision:  0.9273751242316045 Testing precision:  0.9065878242564669\n",
      "Fold 1 :  Training recall:  0.976928147659855 Testing accuracy:  0.9608778847718135\n",
      "Fold 1 :  Training auc:  0.9502386036159579 Testing auc:  0.9308652451500865\n",
      "Fold 2 :  Training accuracy:  0.9594758549046057 Testing accuracy:  0.9362610569729671\n",
      "Fold 2 :  Training precision:  0.9421960683406891 Testing precision:  0.9168056451194474\n",
      "Fold 2 :  Training recall:  0.9790420611901288 Testing accuracy:  0.9595100400671794\n",
      "Fold 2 :  Training auc:  0.9594695958307472 Testing auc:  0.9362759170418834\n",
      "Fold 3 :  Training accuracy:  0.9548747587040957 Testing accuracy:  0.9326561543053391\n",
      "Fold 3 :  Training precision:  0.93441609520901 Testing precision:  0.910976256407235\n",
      "Fold 3 :  Training recall:  0.9784256458061603 Testing accuracy:  0.9590212549861802\n",
      "Fold 3 :  Training auc:  0.954873891427826 Testing auc:  0.9326580959137551\n"
     ]
    }
   ],
   "source": [
    "model_DT = DT_pred(X_smote, y_smote)"
   ]
  },
  {
   "cell_type": "markdown",
   "metadata": {},
   "source": [
    "#### 1.6.2. Random Forest model <a name=\"heading--4-1-6-2\"/>\n",
    "- Random forest consists of a large number of individual decision trees that operate as an ensemble. Each individual tree in the random forest splits out a class prediction and the class with the most votes becomes our model’s prediction. \n",
    "\n",
    "- I will choose random forest because  random forest work well in such high-dimensional cases. It’s typically less likely to be overfit."
   ]
  },
  {
   "cell_type": "code",
   "execution_count": 131,
   "metadata": {},
   "outputs": [],
   "source": [
    "def RF_pred(X, y):\n",
    "    \n",
    "    # Build models with hyperparameters sets\n",
    "    RSC = RandomizedSearchCV(\n",
    "        estimator=RandomForestClassifier(),\n",
    "        param_distributions={\n",
    "            'n_estimators': range(1, 200, 10),\n",
    "            'max_depth': range(1, 100, 10),\n",
    "            'max_features': ['auto', 'sqrt', 'log2']}, cv=3, scoring='roc_auc', n_jobs=-1)\n",
    "    \n",
    "    # Fit RandomizedSearchCV to find best hyperparameters\n",
    "    search_result = RSC.fit(X, y)\n",
    "    print(\"Best using: \", search_result.best_params_, \"Score: \", search_result.best_score_)\n",
    "\n",
    "    # Build models with optimized hyperparameters\n",
    "    model_RF = RandomForestClassifier(\n",
    "        n_estimators=search_result.best_params_[\"n_estimators\"],\n",
    "        max_depth=search_result.best_params_[\"max_depth\"],\n",
    "        max_features=search_result.best_params_[\"max_features\"])\n",
    "    \n",
    "\n",
    "    # Split dataset into 5 consecutive folds\n",
    "    kf = KFold(n_splits=3, shuffle=True, random_state=None)\n",
    "    \n",
    "    i = 1\n",
    "    for train, test in kf.split(X):  \n",
    "        X_train = X.iloc[train,:]\n",
    "        y_train = y.iloc[train,:]\n",
    "        X_test = X.iloc[test]\n",
    "        y_test = y.iloc[test]\n",
    "        model_RF.fit(X_train, y_train)\n",
    "        train_pred = model_RF.predict(X_train)\n",
    "        y_pred = model_RF.predict(X_test)\n",
    "        \n",
    "        train_accuracy = accuracy_score(y_train, train_pred)\n",
    "        train_precision = precision_score(y_train, train_pred)\n",
    "        train_recall = recall_score(y_train, train_pred)\n",
    "        train_auc = roc_auc_score(y_train, train_pred)\n",
    "        \n",
    "        test_accuracy = accuracy_score(y_test, y_pred)\n",
    "        test_precision = precision_score(y_test, y_pred)\n",
    "        test_recall = recall_score(y_test, y_pred)\n",
    "        test_auc = roc_auc_score(y_test, y_pred)        \n",
    "        \n",
    "        print('Fold '+ str(i), ':  Training accuracy: ', train_accuracy, 'Testing accuracy: ', test_accuracy)\n",
    "        print('Fold '+ str(i), ':  Training precision: ', train_precision, 'Testing precision: ', test_precision)\n",
    "        print('Fold '+ str(i), ':  Training recall: ', train_recall, 'Testing accuracy: ', test_recall)\n",
    "        print('Fold '+ str(i), ':  Training auc: ', train_auc, 'Testing auc: ', test_auc)\n",
    "        \n",
    "        i += 1\n",
    "\n",
    "    return model_RF"
   ]
  },
  {
   "cell_type": "code",
   "execution_count": 132,
   "metadata": {},
   "outputs": [
    {
     "name": "stdout",
     "output_type": "stream",
     "text": [
      "Best using:  {'n_estimators': 191, 'max_features': 'log2', 'max_depth': 61} Score:  0.9932197072717678\n",
      "Fold 1 :  Training accuracy:  1.0 Testing accuracy:  0.9765390608647115\n",
      "Fold 1 :  Training precision:  1.0 Testing precision:  0.9701806687153425\n",
      "Fold 1 :  Training recall:  1.0 Testing accuracy:  0.9832717935988333\n",
      "Fold 1 :  Training auc:  1.0 Testing auc:  0.9765430775103597\n",
      "Fold 2 :  Training accuracy:  1.0 Testing accuracy:  0.9762774147033514\n",
      "Fold 2 :  Training precision:  1.0 Testing precision:  0.9695733547228906\n",
      "Fold 2 :  Training recall:  1.0 Testing accuracy:  0.9834416817114653\n",
      "Fold 2 :  Training auc:  1.0 Testing auc:  0.976273635934966\n",
      "Fold 3 :  Training accuracy:  1.0 Testing accuracy:  0.9764712266747293\n",
      "Fold 3 :  Training precision:  1.0 Testing precision:  0.9698476520994657\n",
      "Fold 3 :  Training recall:  1.0 Testing accuracy:  0.9835232558139535\n",
      "Fold 3 :  Training auc:  1.0 Testing auc:  0.9764707346040352\n"
     ]
    }
   ],
   "source": [
    "model_RF = RF_pred(X_smote, y_smote)"
   ]
  },
  {
   "cell_type": "markdown",
   "metadata": {},
   "source": [
    "#### 1.6.3. Light GBM model <a name=\"heading--4-1-6-2\"/>\n",
    "- Light GBM is an algorithm based on decision tree. Light GBM grows tree vertically. It will choose the leaf with max delta loss to grow. \n",
    "\n",
    "- I will choose Light GBM because it has faster training speed and higher efficiency, but at the same time, it typically has higher accuracy."
   ]
  },
  {
   "cell_type": "code",
   "execution_count": 133,
   "metadata": {},
   "outputs": [],
   "source": [
    "def LGB_pred(X, y):\n",
    "    \n",
    "    # Build models with hyperparameters sets\n",
    "    RSC = RandomizedSearchCV(\n",
    "        estimator=lgb.LGBMClassifier(),\n",
    "        param_distributions = { 'boosting_type': ['gbdt', 'goss', 'dart'],\n",
    "                      'num_leaves': range(10, 500, 25),\n",
    "                      'bagging_fraction': [0.1, 0.3, 0.5, 0.7, 0.9],\n",
    "                      'learning_rate': [0.001, 0.005, 0.01, 0.05, 0.1, 0.3, 0.5],\n",
    "                      'min_data': [200, 300, 400, 500, 600],\n",
    "                      'max_bin': [3, 5, 10, 12, 15, 18, 20, 22],\n",
    "                      'lambda_l1': [1, 10, 20, 30, 40],\n",
    "                      'feature_fraction': [0.5, 0.7, 0.8, 0.9],\n",
    "                      'max_depth': range(1, 50, 10)}, cv=3, scoring='roc_auc', n_jobs=-1)\n",
    "    \n",
    "    # Fit RandomizedSearchCV to find best hyperparameters\n",
    "    search_result = RSC.fit(X, y)\n",
    "    print(\"Best: using\", search_result.best_score_, search_result.best_params_)\n",
    "\n",
    "    # Build models with optimized hyperparameters\n",
    "    model_LGB = lgb.LGBMClassifier(\n",
    "        boosting_type=search_result.best_params_[\"boosting_type\"],\n",
    "        num_leaves=search_result.best_params_[\"num_leaves\"],\n",
    "        bagging_fraction=search_result.best_params_[\"bagging_fraction\"],\n",
    "        learning_rate=search_result.best_params_[\"learning_rate\"],\n",
    "        min_data=search_result.best_params_[\"min_data\"],\n",
    "        max_bin=search_result.best_params_[\"max_bin\"],\n",
    "        lambda_l1=search_result.best_params_[\"lambda_l1\"],\n",
    "        feature_fraction=search_result.best_params_[\"feature_fraction\"],\n",
    "        max_depth=search_result.best_params_[\"max_depth\"])\n",
    "    \n",
    "\n",
    "    # Split dataset into 5 consecutive folds\n",
    "    kf = KFold(n_splits=3, shuffle=True, random_state=None)\n",
    "    \n",
    "    i = 1\n",
    "    for train, test in kf.split(X):  \n",
    "        X_train = X.iloc[train,:]\n",
    "        y_train = y.iloc[train,:]\n",
    "        X_test = X.iloc[test]\n",
    "        y_test = y.iloc[test]\n",
    "        model_LGB.fit(X_train, y_train)\n",
    "        train_pred = model_LGB.predict(X_train)\n",
    "        y_pred = model_LGB.predict(X_test)\n",
    "        \n",
    "        train_accuracy = accuracy_score(y_train, train_pred)\n",
    "        train_precision = precision_score(y_train, train_pred)\n",
    "        train_recall = recall_score(y_train, train_pred)\n",
    "        train_auc = roc_auc_score(y_train, train_pred)\n",
    "        \n",
    "        test_accuracy = accuracy_score(y_test, y_pred)\n",
    "        test_precision = precision_score(y_test, y_pred)\n",
    "        test_recall = recall_score(y_test, y_pred)\n",
    "        test_auc = roc_auc_score(y_test, y_pred)        \n",
    "        \n",
    "        print('Fold '+ str(i), ':  Training accuracy: ', train_accuracy, 'Testing accuracy: ', test_accuracy)\n",
    "        print('Fold '+ str(i), ':  Training precision: ', train_precision, 'Testing precision: ', test_precision)\n",
    "        print('Fold '+ str(i), ':  Training recall: ', train_recall, 'Testing accuracy: ', test_recall)\n",
    "        print('Fold '+ str(i), ':  Training auc: ', train_auc, 'Testing auc: ', test_auc)\n",
    "        \n",
    "        i += 1\n",
    "\n",
    "    return model_LGB"
   ]
  },
  {
   "cell_type": "code",
   "execution_count": 134,
   "metadata": {},
   "outputs": [
    {
     "name": "stdout",
     "output_type": "stream",
     "text": [
      "Best: using 0.9747786985967029 {'num_leaves': 235, 'min_data': 300, 'max_depth': 21, 'max_bin': 12, 'learning_rate': 0.1, 'lambda_l1': 20, 'feature_fraction': 0.9, 'boosting_type': 'goss', 'bagging_fraction': 0.1}\n",
      "Fold 1 :  Training accuracy:  0.9304302238140646 Testing accuracy:  0.9281694071679419\n",
      "Fold 1 :  Training precision:  0.9283542232650037 Testing precision:  0.9266024243313021\n",
      "Fold 1 :  Training recall:  0.9328052206382719 Testing accuracy:  0.9301057149608556\n",
      "Fold 1 :  Training auc:  0.9304309830709091 Testing auc:  0.9281681679525844\n",
      "Fold 2 :  Training accuracy:  0.9297567272135265 Testing accuracy:  0.9294485661790357\n",
      "Fold 2 :  Training precision:  0.9274900367695237 Testing precision:  0.9267315817066025\n",
      "Fold 2 :  Training recall:  0.9324604469312708 Testing accuracy:  0.9325262602597322\n",
      "Fold 2 :  Training auc:  0.9297557941480502 Testing auc:  0.9294506882333678\n",
      "Fold 3 :  Training accuracy:  0.9298449116605034 Testing accuracy:  0.9285143924769945\n",
      "Fold 3 :  Training precision:  0.9277794923231232 Testing precision:  0.9268469720661763\n",
      "Fold 3 :  Training recall:  0.9322551947762482 Testing accuracy:  0.9304753968100157\n",
      "Fold 3 :  Training auc:  0.9298449723873973 Testing auc:  0.9285142936548246\n"
     ]
    }
   ],
   "source": [
    "model_LGB = LGB_pred(X_smote, y_smote)"
   ]
  },
  {
   "cell_type": "code",
   "execution_count": 232,
   "metadata": {},
   "outputs": [
    {
     "data": {
      "text/plain": [
       "['model_LGB.pkl']"
      ]
     },
     "execution_count": 232,
     "metadata": {},
     "output_type": "execute_result"
    }
   ],
   "source": [
    "# Save my models as pickle files\n",
    "joblib.dump(model_DT, \"model_DT.pkl\")\n",
    "joblib.dump(model_RF, \"model_RF.pkl\")\n",
    "joblib.dump(model_LGB, \"model_LGB.pkl\")"
   ]
  },
  {
   "cell_type": "markdown",
   "metadata": {},
   "source": [
    "## 2. Provide an estimate of performance using an appropriate sample. <a name=\"heading--4-2\"/>"
   ]
  },
  {
   "cell_type": "code",
   "execution_count": 135,
   "metadata": {},
   "outputs": [],
   "source": [
    "X_train, X_test, y_train, y_test = train_test_split(X_smote, y_smote, random_state=2, test_size=0.30)"
   ]
  },
  {
   "cell_type": "code",
   "execution_count": 196,
   "metadata": {},
   "outputs": [],
   "source": [
    "def plot_performance(y_test, y_pred, y_pred_prob):\n",
    "\n",
    "\n",
    "    test_fpr, test_tpr, _ = roc_curve(y_test, y_pred_prob)\n",
    "    precision, recall, _ = precision_recall_curve(y_test, y_pred)\n",
    "    \n",
    "    # ROC Curve\n",
    "    fig = plt.figure(1, figsize=(10,5))\n",
    "    plt.subplot(1, 2, 1)\n",
    "    plt.plot(test_fpr, test_tpr, label=\"ROC (area = %0.4f)\" % roc_auc_score(y_test, y_pred), color=\"blue\", lw=2)\n",
    "    plt.plot([0, 1], [0, 1], \"k--\")\n",
    "    plt.legend(loc=\"lower right\")\n",
    "    plt.xlabel(\"False Positive Rate\")\n",
    "    plt.ylabel(\"True Positive Rate\")\n",
    "    plt.title(\"ROC Curve\")\n",
    "    \n",
    "    \n",
    "    # Precision Recall Curve\n",
    "    plt.subplot(1, 2, 2)\n",
    "    plt.plot(recall, precision, marker='.', color=\"blue\", lw=2)\n",
    "    plt.xlabel('Recall')\n",
    "    plt.ylabel('Precision')\n",
    "    plt.title(\"Precision Recall Curve\")\n",
    "    \n",
    "    \n",
    "    plt.tight_layout()\n",
    "    plt.show()"
   ]
  },
  {
   "cell_type": "code",
   "execution_count": 197,
   "metadata": {},
   "outputs": [],
   "source": [
    "def plot_confusion(y_test, y_pred):   \n",
    "    \n",
    "    cm = confusion_matrix(y_test, y_pred)\n",
    "    \n",
    "    # Confusion Matrix\n",
    "    plt.figure(figsize=(10,10))\n",
    "    ax =  fig.add_subplot(1,1,1, adjustable='box', aspect=1)\n",
    "    plt.imshow(cm, interpolation='nearest', cmap=plt.cm.Blues)\n",
    "    plt.colorbar()\n",
    "\n",
    "    thresh = cm.max() / 2.\n",
    "    for i, j in itertools.product(range(cm.shape[0]), range(cm.shape[1])):\n",
    "        plt.text(j, i, format(cm[i, j], 'd'),\n",
    "                 horizontalalignment=\"center\",\n",
    "                 color=\"white\" if cm[i, j] > thresh else \"black\")\n",
    "\n",
    "    plt.ylabel('True label')\n",
    "    plt.xlabel('Predicted label')\n",
    "\n",
    "    np.set_printoptions(precision=2)\n",
    "    plt.show()\n",
    "    "
   ]
  },
  {
   "cell_type": "code",
   "execution_count": 198,
   "metadata": {},
   "outputs": [
    {
     "data": {
      "image/png": "[encoded data removed]",
      "text/plain": [
       "<Figure size 720x360 with 2 Axes>"
      ]
     },
     "metadata": {
      "needs_background": "light"
     },
     "output_type": "display_data"
    },
    {
     "data": {
      "image/png": "[encoded data removed]",
      "text/plain": [
       "<Figure size 720x720 with 2 Axes>"
      ]
     },
     "metadata": {
      "needs_background": "light"
     },
     "output_type": "display_data"
    }
   ],
   "source": [
    "# Decision Tree performance\n",
    "\n",
    "y_pred = model_DT.predict(X_test)\n",
    "y_pred_prob = model_DT.predict_proba(X_test)\n",
    "y_pred_prob = y_pred_prob[:, 1]\n",
    "\n",
    "plot_performance(y_test, y_pred, y_pred_prob)\n",
    "plot_confusion(y_test, y_pred)"
   ]
  },
  {
   "cell_type": "code",
   "execution_count": 199,
   "metadata": {},
   "outputs": [
    {
     "data": {
      "image/png": "[encoded data removed]",
      "text/plain": [
       "<Figure size 720x360 with 2 Axes>"
      ]
     },
     "metadata": {
      "needs_background": "light"
     },
     "output_type": "display_data"
    },
    {
     "data": {
      "image/png": "[encoded data removed]",
      "text/plain": [
       "<Figure size 720x720 with 2 Axes>"
      ]
     },
     "metadata": {
      "needs_background": "light"
     },
     "output_type": "display_data"
    }
   ],
   "source": [
    "# Random Forest performance\n",
    "y_pred = model_RF.predict(X_test)\n",
    "y_pred_prob = model_RF.predict_proba(X_test)\n",
    "y_pred_prob = y_pred_prob[:, 1]\n",
    "\n",
    "plot_performance(y_test, y_pred, y_pred_prob)\n",
    "plot_confusion(y_test, y_pred)"
   ]
  },
  {
   "cell_type": "code",
   "execution_count": 200,
   "metadata": {},
   "outputs": [
    {
     "data": {
      "image/png": "[encoded data removed]",
      "text/plain": [
       "<Figure size 720x360 with 2 Axes>"
      ]
     },
     "metadata": {
      "needs_background": "light"
     },
     "output_type": "display_data"
    },
    {
     "data": {
      "image/png": "[encoded data removed]",
      "text/plain": [
       "<Figure size 720x720 with 2 Axes>"
      ]
     },
     "metadata": {
      "needs_background": "light"
     },
     "output_type": "display_data"
    }
   ],
   "source": [
    "# LGB performance\n",
    "y_pred = model_LGB.predict(X_test)\n",
    "y_pred_prob = model_LGB.predict_proba(X_test)\n",
    "y_pred_prob = y_pred_prob[:, 1]\n",
    "\n",
    "plot_performance(y_test, y_pred, y_pred_prob)\n",
    "plot_confusion(y_test, y_pred)"
   ]
  },
  {
   "cell_type": "markdown",
   "metadata": {},
   "source": [
    "I made 3 plots to evaluate each of these three model, ROC Curve, Precision-recall Curve and Confusion Matrix.\n",
    "\n",
    "- ROC Curve:\n",
    "ROC Curve shows the dependency between TPR (True Positive Rate) and FPR (False Positive Rate). The true positive rate is calculated as the number of true positives divided by the sum of the number of true positives and the number of false negatives. It describes how good the model is at predicting the positive class when the actual outcome is positive. The false positive rate is also referred to as the inverted specificity where specificity is the total number of true negatives divided by the sum of the number of true negatives and false positives.\n",
    "A skilled model should have an area of 1.0 under the curve, which is AUC. The curve of our random forest model are the closest to the top left corner, which means that this model has the highes AUC score.\n",
    "\n",
    "\n",
    "- Precision-Recall Curve:\n",
    "Precision-Recall curve shows the trade-off between the true positive rate and the positive predictive value for a predictive model\n",
    "Precision is a ratio of the number of true positives divided by the sum of the true positives and false positives. It describes how good a model is at predicting the positive class. Precision is referred to as the positive predictive value. Recall is the ratio of the number of true positives divided by the sum of the true positives and the false negatives.\n",
    "A skilled model should also have an area of 1.0 under the curvel, which means that it has both high precision and high recall. Our random forest model also outperforms the other two.\n",
    "\n",
    "\n",
    "- Confusion matrix:\n",
    "Confusion matrix directly gives the number of correct and incorrect classifications made by the classifier.The left diagonal shows the number of correct predictions made for each class while the right diagonal shows the number of wrong predictions made. Upper right counts false positive case. Lower left counts false negative cases.\n",
    "Our random forest model also has the lowest false cases. It's false positive case is 2314 and false negative case is 1228. False positive means that the model incorrectly labels a legitimate transaction as fraudulent, and false negative means that the model mistakenly ignore a fraudulent transaction and labels it as normal. \n",
    "\n",
    "\n",
    "Source: https://machinelearningmastery.com/roc-curves-and-precision-recall-curves-for-classification-in-python/"
   ]
  },
  {
   "cell_type": "markdown",
   "metadata": {},
   "source": [
    "## 3. Explain your methodology (modeling algorithm/method used and why, what features/data you found useful, what questions you have, and what you would do next with more time) <a name=\"heading--4-3\"/>"
   ]
  },
  {
   "cell_type": "markdown",
   "metadata": {},
   "source": [
    "### 3.1. Methodology <a name=\"heading--4-3-1\"/>"
   ]
  },
  {
   "cell_type": "markdown",
   "metadata": {},
   "source": [
    "- SMOTE: \n",
    "In the original dataset, the class within our target variable “isFraud” is quite imbalanced. Fraud cases are much less than normal cases. So I will use SMOTE function to oversample my dataset. SMOTE generates the virtual training records by randomly selecting one or more of the k-nearest neighbors for each example in the minority class. After the oversampling process, the data is reconstructed and the performance of our classification models can be better."
   ]
  },
  {
   "cell_type": "markdown",
   "metadata": {},
   "source": [
    "- Cross validation: cross validation is an algorithm that can ensure that each and every instance of the dataset will be trained and tested. The K-Fold Cross Validation works by first dividing the dataset into k-subsets. I divided the dataset into (k=3) parts. We reserve 1 part for testing and train the algorithm over the 2 parts. We continue the process by changing the testing part in each iteration and training the algorithm over the other parts. The accuracies and errors are then averaged of the algorithm. With cross-validation, we can achieve a generalized model."
   ]
  },
  {
   "cell_type": "markdown",
   "metadata": {},
   "source": [
    "- RandomizedSearchCV: Random Search is a hyperparameter tuning algorithm. It helps us select models by setting up a grid of hyperparameter values and selecting random combinations to train the model and score. This allows us to explicitly control the number of parameter combinations that are attempted. It’s more efficient than GridSearchCV and its chance of finding the optimal parameter are comparatively."
   ]
  },
  {
   "cell_type": "markdown",
   "metadata": {},
   "source": [
    "- Decision Tree: Decision tree is a non-parametric supervised learning method. The rule for decision tree algorithm are generally in form of if-then-else statements. The deeper the tree, the more complex the rules and fitter the model. The reason why I use decision trees is that it's a very interpretable model and it's very transparent. If we are going to show the workflow of our machine learning model to our non-technical clients, decision tree may be a very good choice. We can easily visualize our decision tree model."
   ]
  },
  {
   "cell_type": "markdown",
   "metadata": {},
   "source": [
    "- Random forest: \n",
    "Random forest consists of a large number of individual decision trees that operate as an ensemble. Each individual tree in the random forest splits out a class prediction and the class with the most votes becomes our model’s prediction. I choose random forest because random forest works well in such high-dimensional cases. It’s typically less likely to be overfit."
   ]
  },
  {
   "cell_type": "markdown",
   "metadata": {},
   "source": [
    "- Light GBM: \n",
    "Light GBM is a gradient boosting framework that uses tree based learning algorithms. Light GBM grows tree vertically. It will choose the leaf with max delta loss to grow.\n",
    "I choose Light GBM because it has faster training speed and higher efficiency, but at the same time, it typically has higher accuracy."
   ]
  },
  {
   "cell_type": "markdown",
   "metadata": {},
   "source": [
    "### 3.2. Useful features <a name=\"heading--4-3-2\"/>"
   ]
  },
  {
   "cell_type": "code",
   "execution_count": 228,
   "metadata": {},
   "outputs": [
    {
     "data": {
      "image/png": "[encoded data removed]",
      "text/plain": [
       "<Figure size 1080x576 with 1 Axes>"
      ]
     },
     "metadata": {
      "needs_background": "light"
     },
     "output_type": "display_data"
    }
   ],
   "source": [
    "# Plot the feature importances of the Random Forest\n",
    "\n",
    "importances = model_RF.feature_importances_\n",
    "indices = np.argsort(importances)[::-1]\n",
    "\n",
    "top_10= 10\n",
    "top_indices = indices[:top_10]\n",
    "\n",
    "plt.figure(figsize=(15,8))\n",
    "plt.title(\"Feature importances\")\n",
    "plt.bar(range(10), importances[top_indices], align=\"center\", color=\"blue\")\n",
    "plt.xticks(range(10), np.array(X.columns)[indices][0:10])\n",
    "plt.show()"
   ]
  },
  {
   "cell_type": "markdown",
   "metadata": {},
   "source": [
    "From the feature importance plot above, we can find the top 10 useful features in our random forest model, which are 'transactionAmount', 'cardPresent', 'currentBalance', 'openTime', 'expTime', 'creditLimit', 'rightCVV', 'expirationDateKeyInMatch', 'sameCountry' and 'firPurchase'."
   ]
  }
 ],
 "metadata": {
  "kernelspec": {
   "display_name": "Python 3",
   "language": "python",
   "name": "python3"
  },
  "language_info": {
   "codemirror_mode": {
    "name": "ipython",
    "version": 3
   },
   "file_extension": ".py",
   "mimetype": "text/x-python",
   "name": "python",
   "nbconvert_exporter": "python",
   "pygments_lexer": "ipython3",
   "version": "3.7.4"
  },
  "toc": {
   "base_numbering": 1,
   "nav_menu": {},
   "number_sections": true,
   "sideBar": true,
   "skip_h1_title": false,
   "title_cell": "Table of Contents",
   "title_sidebar": "Contents",
   "toc_cell": false,
   "toc_position": {},
   "toc_section_display": true,
   "toc_window_display": true
  }
 },
 "nbformat": 4,
 "nbformat_minor": 2
}
